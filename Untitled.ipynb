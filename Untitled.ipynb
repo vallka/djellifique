{
 "cells": [
  {
   "cell_type": "code",
   "execution_count": 1,
   "id": "b388d58b",
   "metadata": {},
   "outputs": [
    {
     "name": "stdout",
     "output_type": "stream",
     "text": [
      "['UPDATE ps17_attribute_group_shop SET id_shop = 1 WHERE id_shop = 1;', 'UPDATE ps17_attribute_shop SET id_shop = 1 WHERE id_shop = 1;', 'UPDATE ps17_blockwishlist_statistics SET id_shop = 1 WHERE id_shop = 1;', 'UPDATE ps17_carrier_lang SET id_shop = 1 WHERE id_shop = 1;', 'UPDATE ps17_carrier_shop SET id_shop = 1 WHERE id_shop = 1;', 'UPDATE ps17_carrier_tax_rules_group_shop SET id_shop = 1 WHERE id_shop = 1;', 'UPDATE ps17_cart SET id_shop = 1 WHERE id_shop = 1;', 'UPDATE ps17_cart_product SET id_shop = 1 WHERE id_shop = 1;', 'UPDATE ps17_category_lang SET id_shop = 1 WHERE id_shop = 1;', 'UPDATE ps17_category_shop SET id_shop = 1 WHERE id_shop = 1;', 'UPDATE ps17_cms_category_lang SET id_shop = 1 WHERE id_shop = 1;', 'UPDATE ps17_cms_category_shop SET id_shop = 1 WHERE id_shop = 1;', 'UPDATE ps17_cms_lang SET id_shop = 1 WHERE id_shop = 1;', 'UPDATE ps17_cms_shop SET id_shop = 1 WHERE id_shop = 1;', 'UPDATE ps17_configuration SET id_shop = 1 WHERE id_shop = 1;', 'UPDATE ps17_configuration_kpi SET id_shop = 1 WHERE id_shop = 1;', 'UPDATE ps17_connections SET id_shop = 1 WHERE id_shop = 1;', 'UPDATE ps17_contact_shop SET id_shop = 1 WHERE id_shop = 1;', 'UPDATE ps17_country_shop SET id_shop = 1 WHERE id_shop = 1;', 'UPDATE ps17_cronjobs SET id_shop = 1 WHERE id_shop = 1;', 'UPDATE ps17_currency_shop SET id_shop = 1 WHERE id_shop = 1;', 'UPDATE ps17_customer SET id_shop = 1 WHERE id_shop = 1;', 'UPDATE ps17_customer_thread SET id_shop = 1 WHERE id_shop = 1;', 'UPDATE ps17_customization_field_lang SET id_shop = 1 WHERE id_shop = 1;', 'UPDATE ps17_delivery SET id_shop = 1 WHERE id_shop = 1;', 'UPDATE ps17_emailsubscription SET id_shop = 1 WHERE id_shop = 1;', 'UPDATE ps17_employee_shop SET id_shop = 1 WHERE id_shop = 1;', 'UPDATE ps17_feature_shop SET id_shop = 1 WHERE id_shop = 1;', 'UPDATE ps17_ganalytics SET id_shop = 1 WHERE id_shop = 1;', 'UPDATE ps17_ganalytics_data SET id_shop = 1 WHERE id_shop = 1;', 'UPDATE ps17_group_shop SET id_shop = 1 WHERE id_shop = 1;', 'UPDATE ps17_gsitemap_sitemap SET id_shop = 1 WHERE id_shop = 1;', 'UPDATE ps17_homeslider SET id_shop = 1 WHERE id_shop = 1;', 'UPDATE ps17_hook_module SET id_shop = 1 WHERE id_shop = 1;', 'UPDATE ps17_image_shop SET id_shop = 1 WHERE id_shop = 1;', 'UPDATE ps17_info_lang SET id_shop = 1 WHERE id_shop = 1;', 'UPDATE ps17_info_shop SET id_shop = 1 WHERE id_shop = 1;', 'UPDATE ps17_klarna_orders SET id_shop = 1 WHERE id_shop = 1;', 'UPDATE ps17_lang_shop SET id_shop = 1 WHERE id_shop = 1;', 'UPDATE ps17_layered_category SET id_shop = 1 WHERE id_shop = 1;', 'UPDATE ps17_layered_filter_shop SET id_shop = 1 WHERE id_shop = 1;', 'UPDATE ps17_layered_price_index SET id_shop = 1 WHERE id_shop = 1;', 'UPDATE ps17_layered_product_attribute SET id_shop = 1 WHERE id_shop = 1;', 'UPDATE ps17_link_block_shop SET id_shop = 1 WHERE id_shop = 1;', 'UPDATE ps17_linksmenutop SET id_shop = 1 WHERE id_shop = 1;', 'UPDATE ps17_linksmenutop_lang SET id_shop = 1 WHERE id_shop = 1;', 'UPDATE ps17_log SET id_shop = 1 WHERE id_shop = 1;', 'UPDATE ps17_lrp_rule SET id_shop = 1 WHERE id_shop = 1;', 'UPDATE ps17_manufacturer_shop SET id_shop = 1 WHERE id_shop = 1;', 'UPDATE ps17_meta_lang SET id_shop = 1 WHERE id_shop = 1;', 'UPDATE ps17_module_carrier SET id_shop = 1 WHERE id_shop = 1;', 'UPDATE ps17_module_country SET id_shop = 1 WHERE id_shop = 1;', 'UPDATE ps17_module_currency SET id_shop = 1 WHERE id_shop = 1;', 'UPDATE ps17_module_group SET id_shop = 1 WHERE id_shop = 1;', 'UPDATE ps17_module_shop SET id_shop = 1 WHERE id_shop = 1;', 'UPDATE ps17_order_detail SET id_shop = 1 WHERE id_shop = 1;', 'UPDATE ps17_orders SET id_shop = 1 WHERE id_shop = 1;', 'UPDATE ps17_page_viewed SET id_shop = 1 WHERE id_shop = 1;', 'UPDATE ps17_paypal_processlogger SET id_shop = 1 WHERE id_shop = 1;', 'UPDATE ps17_product_attribute_shop SET id_shop = 1 WHERE id_shop = 1;', 'UPDATE ps17_product_carrier SET id_shop = 1 WHERE id_shop = 1;', 'UPDATE ps17_product_lang SET id_shop = 1 WHERE id_shop = 1;', 'UPDATE ps17_product_shop SET id_shop = 1 WHERE id_shop = 1;', 'UPDATE ps17_psreassurance SET id_shop = 1 WHERE id_shop = 1;', 'UPDATE ps17_psreassurance_lang SET id_shop = 1 WHERE id_shop = 1;', 'UPDATE ps17_quantity_discount_rule SET id_shop = 1 WHERE id_shop = 1;', 'UPDATE ps17_quantity_discount_rule_family SET id_shop = 1 WHERE id_shop = 1;', 'UPDATE ps17_reassurance SET id_shop = 1 WHERE id_shop = 1;', 'UPDATE ps17_search_word SET id_shop = 1 WHERE id_shop = 1;', 'UPDATE ps17_shop SET id_shop = 1 WHERE id_shop = 1;', 'UPDATE ps17_shop_url SET id_shop = 1 WHERE id_shop = 1;', 'UPDATE ps17_specific_price SET id_shop = 1 WHERE id_shop = 1;', 'UPDATE ps17_stock_available SET id_shop = 1 WHERE id_shop = 1;', 'UPDATE ps17_store_shop SET id_shop = 1 WHERE id_shop = 1;', 'UPDATE ps17_supplier_shop SET id_shop = 1 WHERE id_shop = 1;', 'UPDATE ps17_tag_count SET id_shop = 1 WHERE id_shop = 1;', 'UPDATE ps17_tax_rules_group_shop SET id_shop = 1 WHERE id_shop = 1;', 'UPDATE ps17_webservice_account_shop SET id_shop = 1 WHERE id_shop = 1;', 'UPDATE ps17_wishlist SET id_shop = 1 WHERE id_shop = 1;', 'UPDATE ps17_zone_shop SET id_shop = 1 WHERE id_shop = 1;']\n"
     ]
    }
   ],
   "source": [
    "import os\n",
    "import django\n",
    "os.environ[\"DJANGO_ALLOW_ASYNC_UNSAFE\"] = \"true\"\n",
    "\n",
    "os.environ.setdefault(\"DJANGO_SETTINGS_MODULE\", \"simplyblog.settings-local\")  # replace with your project's settings module\n",
    "django.setup()\n",
    "\n",
    "from django.db import connections\n",
    "\n",
    "connection = connections['presta_eu']\n",
    "\n",
    "table_names = connection.introspection.table_names()\n",
    "update_statements = []\n",
    "\n",
    "for table_name in table_names:\n",
    "    if table_name.startswith('ps17_'):\n",
    "        cursor = connection.cursor()\n",
    "        cursor.execute(f\"SELECT column_name FROM information_schema.columns WHERE table_name = '{table_name}' AND column_name = 'id_shop'\")\n",
    "        if cursor.fetchone():\n",
    "            cursor.execute(f\"SELECT COUNT(*) FROM {table_name}\")\n",
    "            if cursor.fetchone()[0] > 0:\n",
    "                update_statement = f\"UPDATE {table_name} SET id_shop = 1 WHERE id_shop = 1;\"\n",
    "                update_statements.append(update_statement)\n",
    "\n",
    "print(update_statements)\n"
   ]
  },
  {
   "cell_type": "code",
   "execution_count": 2,
   "id": "d773c2e9",
   "metadata": {},
   "outputs": [
    {
     "data": {
      "text/plain": [
       "['UPDATE ps17_attribute_group_shop SET id_shop = 1 WHERE id_shop = 1;',\n",
       " 'UPDATE ps17_attribute_shop SET id_shop = 1 WHERE id_shop = 1;',\n",
       " 'UPDATE ps17_blockwishlist_statistics SET id_shop = 1 WHERE id_shop = 1;',\n",
       " 'UPDATE ps17_carrier_lang SET id_shop = 1 WHERE id_shop = 1;',\n",
       " 'UPDATE ps17_carrier_shop SET id_shop = 1 WHERE id_shop = 1;',\n",
       " 'UPDATE ps17_carrier_tax_rules_group_shop SET id_shop = 1 WHERE id_shop = 1;',\n",
       " 'UPDATE ps17_cart SET id_shop = 1 WHERE id_shop = 1;',\n",
       " 'UPDATE ps17_cart_product SET id_shop = 1 WHERE id_shop = 1;',\n",
       " 'UPDATE ps17_category_lang SET id_shop = 1 WHERE id_shop = 1;',\n",
       " 'UPDATE ps17_category_shop SET id_shop = 1 WHERE id_shop = 1;',\n",
       " 'UPDATE ps17_cms_category_lang SET id_shop = 1 WHERE id_shop = 1;',\n",
       " 'UPDATE ps17_cms_category_shop SET id_shop = 1 WHERE id_shop = 1;',\n",
       " 'UPDATE ps17_cms_lang SET id_shop = 1 WHERE id_shop = 1;',\n",
       " 'UPDATE ps17_cms_shop SET id_shop = 1 WHERE id_shop = 1;',\n",
       " 'UPDATE ps17_configuration SET id_shop = 1 WHERE id_shop = 1;',\n",
       " 'UPDATE ps17_configuration_kpi SET id_shop = 1 WHERE id_shop = 1;',\n",
       " 'UPDATE ps17_connections SET id_shop = 1 WHERE id_shop = 1;',\n",
       " 'UPDATE ps17_contact_shop SET id_shop = 1 WHERE id_shop = 1;',\n",
       " 'UPDATE ps17_country_shop SET id_shop = 1 WHERE id_shop = 1;',\n",
       " 'UPDATE ps17_cronjobs SET id_shop = 1 WHERE id_shop = 1;',\n",
       " 'UPDATE ps17_currency_shop SET id_shop = 1 WHERE id_shop = 1;',\n",
       " 'UPDATE ps17_customer SET id_shop = 1 WHERE id_shop = 1;',\n",
       " 'UPDATE ps17_customer_thread SET id_shop = 1 WHERE id_shop = 1;',\n",
       " 'UPDATE ps17_customization_field_lang SET id_shop = 1 WHERE id_shop = 1;',\n",
       " 'UPDATE ps17_delivery SET id_shop = 1 WHERE id_shop = 1;',\n",
       " 'UPDATE ps17_emailsubscription SET id_shop = 1 WHERE id_shop = 1;',\n",
       " 'UPDATE ps17_employee_shop SET id_shop = 1 WHERE id_shop = 1;',\n",
       " 'UPDATE ps17_feature_shop SET id_shop = 1 WHERE id_shop = 1;',\n",
       " 'UPDATE ps17_ganalytics SET id_shop = 1 WHERE id_shop = 1;',\n",
       " 'UPDATE ps17_ganalytics_data SET id_shop = 1 WHERE id_shop = 1;',\n",
       " 'UPDATE ps17_group_shop SET id_shop = 1 WHERE id_shop = 1;',\n",
       " 'UPDATE ps17_gsitemap_sitemap SET id_shop = 1 WHERE id_shop = 1;',\n",
       " 'UPDATE ps17_homeslider SET id_shop = 1 WHERE id_shop = 1;',\n",
       " 'UPDATE ps17_hook_module SET id_shop = 1 WHERE id_shop = 1;',\n",
       " 'UPDATE ps17_image_shop SET id_shop = 1 WHERE id_shop = 1;',\n",
       " 'UPDATE ps17_info_lang SET id_shop = 1 WHERE id_shop = 1;',\n",
       " 'UPDATE ps17_info_shop SET id_shop = 1 WHERE id_shop = 1;',\n",
       " 'UPDATE ps17_klarna_orders SET id_shop = 1 WHERE id_shop = 1;',\n",
       " 'UPDATE ps17_lang_shop SET id_shop = 1 WHERE id_shop = 1;',\n",
       " 'UPDATE ps17_layered_category SET id_shop = 1 WHERE id_shop = 1;',\n",
       " 'UPDATE ps17_layered_filter_shop SET id_shop = 1 WHERE id_shop = 1;',\n",
       " 'UPDATE ps17_layered_price_index SET id_shop = 1 WHERE id_shop = 1;',\n",
       " 'UPDATE ps17_layered_product_attribute SET id_shop = 1 WHERE id_shop = 1;',\n",
       " 'UPDATE ps17_link_block_shop SET id_shop = 1 WHERE id_shop = 1;',\n",
       " 'UPDATE ps17_linksmenutop SET id_shop = 1 WHERE id_shop = 1;',\n",
       " 'UPDATE ps17_linksmenutop_lang SET id_shop = 1 WHERE id_shop = 1;',\n",
       " 'UPDATE ps17_log SET id_shop = 1 WHERE id_shop = 1;',\n",
       " 'UPDATE ps17_lrp_rule SET id_shop = 1 WHERE id_shop = 1;',\n",
       " 'UPDATE ps17_manufacturer_shop SET id_shop = 1 WHERE id_shop = 1;',\n",
       " 'UPDATE ps17_meta_lang SET id_shop = 1 WHERE id_shop = 1;',\n",
       " 'UPDATE ps17_module_carrier SET id_shop = 1 WHERE id_shop = 1;',\n",
       " 'UPDATE ps17_module_country SET id_shop = 1 WHERE id_shop = 1;',\n",
       " 'UPDATE ps17_module_currency SET id_shop = 1 WHERE id_shop = 1;',\n",
       " 'UPDATE ps17_module_group SET id_shop = 1 WHERE id_shop = 1;',\n",
       " 'UPDATE ps17_module_shop SET id_shop = 1 WHERE id_shop = 1;',\n",
       " 'UPDATE ps17_order_detail SET id_shop = 1 WHERE id_shop = 1;',\n",
       " 'UPDATE ps17_orders SET id_shop = 1 WHERE id_shop = 1;',\n",
       " 'UPDATE ps17_page_viewed SET id_shop = 1 WHERE id_shop = 1;',\n",
       " 'UPDATE ps17_paypal_processlogger SET id_shop = 1 WHERE id_shop = 1;',\n",
       " 'UPDATE ps17_product_attribute_shop SET id_shop = 1 WHERE id_shop = 1;',\n",
       " 'UPDATE ps17_product_carrier SET id_shop = 1 WHERE id_shop = 1;',\n",
       " 'UPDATE ps17_product_lang SET id_shop = 1 WHERE id_shop = 1;',\n",
       " 'UPDATE ps17_product_shop SET id_shop = 1 WHERE id_shop = 1;',\n",
       " 'UPDATE ps17_psreassurance SET id_shop = 1 WHERE id_shop = 1;',\n",
       " 'UPDATE ps17_psreassurance_lang SET id_shop = 1 WHERE id_shop = 1;',\n",
       " 'UPDATE ps17_quantity_discount_rule SET id_shop = 1 WHERE id_shop = 1;',\n",
       " 'UPDATE ps17_quantity_discount_rule_family SET id_shop = 1 WHERE id_shop = 1;',\n",
       " 'UPDATE ps17_reassurance SET id_shop = 1 WHERE id_shop = 1;',\n",
       " 'UPDATE ps17_search_word SET id_shop = 1 WHERE id_shop = 1;',\n",
       " 'UPDATE ps17_shop SET id_shop = 1 WHERE id_shop = 1;',\n",
       " 'UPDATE ps17_shop_url SET id_shop = 1 WHERE id_shop = 1;',\n",
       " 'UPDATE ps17_specific_price SET id_shop = 1 WHERE id_shop = 1;',\n",
       " 'UPDATE ps17_stock_available SET id_shop = 1 WHERE id_shop = 1;',\n",
       " 'UPDATE ps17_store_shop SET id_shop = 1 WHERE id_shop = 1;',\n",
       " 'UPDATE ps17_supplier_shop SET id_shop = 1 WHERE id_shop = 1;',\n",
       " 'UPDATE ps17_tag_count SET id_shop = 1 WHERE id_shop = 1;',\n",
       " 'UPDATE ps17_tax_rules_group_shop SET id_shop = 1 WHERE id_shop = 1;',\n",
       " 'UPDATE ps17_webservice_account_shop SET id_shop = 1 WHERE id_shop = 1;',\n",
       " 'UPDATE ps17_wishlist SET id_shop = 1 WHERE id_shop = 1;',\n",
       " 'UPDATE ps17_zone_shop SET id_shop = 1 WHERE id_shop = 1;']"
      ]
     },
     "execution_count": 2,
     "metadata": {},
     "output_type": "execute_result"
    }
   ],
   "source": [
    "update_statements"
   ]
  },
  {
   "cell_type": "code",
   "execution_count": 5,
   "id": "5845d0f5",
   "metadata": {},
   "outputs": [],
   "source": [
    "import os\n",
    "os.environ[\"DJANGO_ALLOW_ASYNC_UNSAFE\"] = \"true\""
   ]
  },
  {
   "cell_type": "code",
   "execution_count": 3,
   "id": "7e07c9f6",
   "metadata": {},
   "outputs": [],
   "source": [
    "from django.conf import settings\n",
    "from django.db import connections"
   ]
  },
  {
   "cell_type": "code",
   "execution_count": 44,
   "id": "a2670fc8",
   "metadata": {},
   "outputs": [],
   "source": [
    "with connections['default'].cursor() as cursor:\n",
    "    cursor.execute(\"SELECT id_product,id_shop,id_lang,name FROM gellifique_eu.ps17_product_lang WHERE id_shop=2 and (name like '%hema free%' or name like '%sin hema%') order by id_product,id_lang limit 0,100\")\n",
    "    for row in cursor.fetchall():\n",
    "        id_product=row[0]\n",
    "        id_shop=row[1]\n",
    "        id_lang=row[2]\n",
    "        name=row[3]\n",
    "        print(id_product,id_shop,id_lang ,name,re.sub(r'\\s*(\\(HEMA FREE\\))|(\\(SIN HEMA\\))\\s*','',name,re.I))\n",
    "        cursor.execute(\"UPDATE gellifique_eu.ps17_product_lang SET name=%s WHERE id_product=%s and id_shop=%s and id_lang=%s\",\n",
    "            (re.sub(r'\\s*(\\(HEMA FREE\\))|(\\(SIN HEMA\\))\\s*','',name,re.I),id_product,id_shop,id_lang))\n",
    "    "
   ]
  },
  {
   "cell_type": "code",
   "execution_count": 91,
   "id": "6da0ba1a",
   "metadata": {},
   "outputs": [
    {
     "name": "stdout",
     "output_type": "stream",
     "text": [
      "774 1 1 starry-skyhema-free starry-skyhema-free\n",
      "1541 1 1 swarovski-jet-hematite-200 swarovski-jet-hematite-200\n"
     ]
    }
   ],
   "source": [
    "with connections['default'].cursor() as cursor:\n",
    "    cursor.execute(\"SELECT id_product,id_shop,id_lang,link_rewrite FROM gellifique_new.ps17_product_lang \" + \n",
    "        \"WHERE id_shop=1 and link_rewrite like '%hema%' order by id_product,id_lang limit 0,50\")\n",
    "    for row in cursor.fetchall():\n",
    "        id_product=row[0]\n",
    "        id_shop=row[1]\n",
    "        id_lang=row[2]\n",
    "        name=row[3]\n",
    "        print(id_product,id_shop,id_lang ,name,re.sub(r'\\s*-((sin-)|(libre-de-))?hema-?[a-z\\-]*\\s*$','',name,re.I))\n",
    "        cursor.execute(\"UPDATE gellifique_new.ps17_product_lang SET link_rewrite=%s WHERE id_product=%s and id_shop=%s and id_lang=%s\",\n",
    "           (re.sub(r'\\s*-((sin-)|(libre-de-))?hema-?[a-z\\-]*\\s*$','',name,re.I),id_product,id_shop,id_lang))"
   ]
  },
  {
   "cell_type": "code",
   "execution_count": 14,
   "id": "ac528aa8",
   "metadata": {},
   "outputs": [],
   "source": [
    "new=1777\n",
    "old=1204\n",
    "with connections['presta_eu'].cursor() as cursor:\n",
    "    cursor.execute(\"UPDATE ps17_product SET id_product=%s WHERE id_product=%s\",[new,old])\n",
    "    cursor.execute(\"UPDATE ps17_product_shop SET id_product=%s WHERE id_product=%s\",[new,old])\n",
    "    cursor.execute(\"UPDATE ps17_product_lang SET id_product=%s WHERE id_product=%s\",[new,old])\n",
    "    cursor.execute(\"UPDATE ps17_product_shop SET id_product=%s WHERE id_product=%s\",[new,old])\n",
    "    cursor.execute(\"UPDATE ps17_category_product SET id_product=%s WHERE id_product=%s\",[new,old])\n",
    "    cursor.execute(\"UPDATE ps17_image SET id_product=%s WHERE id_product=%s\",[new,old])\n",
    "    cursor.execute(\"UPDATE ps17_image_shop SET id_product=%s WHERE id_product=%s\",[new,old])\n"
   ]
  }
 ],
 "metadata": {
  "kernelspec": {
   "display_name": "Django Shell-Plus",
   "language": "python",
   "name": "django_extensions"
  },
  "language_info": {
   "codemirror_mode": {
    "name": "ipython",
    "version": 3
   },
   "file_extension": ".py",
   "mimetype": "text/x-python",
   "name": "python",
   "nbconvert_exporter": "python",
   "pygments_lexer": "ipython3",
   "version": "3.8.5"
  },
  "vscode": {
   "interpreter": {
    "hash": "54aba9fbefe3b9078c59180d012a34c3b5bac11eea058c8a60927e1030f58f68"
   }
  }
 },
 "nbformat": 4,
 "nbformat_minor": 5
}

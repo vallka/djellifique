{
 "cells": [
  {
   "cell_type": "code",
   "execution_count": 1,
   "id": "b388d58b",
   "metadata": {},
   "outputs": [],
   "source": [
    "from blog import *\n",
    "import re\n"
   ]
  },
  {
   "cell_type": "code",
   "execution_count": 2,
   "id": "5845d0f5",
   "metadata": {},
   "outputs": [],
   "source": [
    "import os\n",
    "os.environ[\"DJANGO_ALLOW_ASYNC_UNSAFE\"] = \"true\""
   ]
  },
  {
   "cell_type": "code",
   "execution_count": 3,
   "id": "a5fb5e26",
   "metadata": {},
   "outputs": [
    {
     "data": {
      "text/plain": [
       "<QuerySet [<Post: 105:mothers-day-copy-by-vk>, <Post: 104:mothers-day-weekend>, <Post: 103:how-to-use-tables>, <Post: 102:dermal-allergies-to-nail-products>, <Post: 101:full-tip-system-25>, <Post: 100:changes-to-bulk-discounts>, <Post: 99:valentines-day-edit-savings>, <Post: 98:get-ready-for-spring>, <Post: 97:Essentials>, <Post: 96:gelly-tips>, <Post: 95:primer-dehydrator-or-bonder>, <Post: 94:last-day-sale>, <Post: 93:pantone-colour-of-the-year-2022>, <Post: 92:giveaway-welcome-2022>, <Post: 91:christmas-wishes-from-our-team>, <Post: 90:_products_carousel2>, <Post: 89:_products_carousel>, <Post: 88:new-brush-on-gel-colours>, <Post: 87:great-things-come-in-small-packages>, <Post: 86:biab-safety>, '...(remaining elements truncated)...']>"
      ]
     },
     "execution_count": 3,
     "metadata": {},
     "output_type": "execute_result"
    }
   ],
   "source": [
    "pp = Post.objects.all()\n",
    "pp"
   ]
  },
  {
   "cell_type": "code",
   "execution_count": 4,
   "id": "330a2d64",
   "metadata": {},
   "outputs": [
    {
     "data": {
      "text/plain": [
       "44"
      ]
     },
     "execution_count": 4,
     "metadata": {},
     "output_type": "execute_result"
    }
   ],
   "source": [
    "len(Post.objects.filter(blog=1,blog_start_dt__isnull=False))"
   ]
  },
  {
   "cell_type": "code",
   "execution_count": 46,
   "id": "5b9a9a73",
   "metadata": {},
   "outputs": [
    {
     "name": "stdout",
     "output_type": "stream",
     "text": [
      "97 HEMA FREE\n",
      "93 HEMA FREE\n",
      "71 HEMA FREE\n",
      "70 HEMA FREE\n",
      "62 HEMA free\n",
      "59 HEMA free\n",
      "58 HEMA FREE\n",
      "57 HEMA FREE\n",
      "56 HEMA FREE\n",
      "54 HEMA FREE\n",
      "49 HEMA FREE\n",
      "48 HEMA FREE\n",
      "46 HEMA FREE\n",
      "31 HEMA Free\n",
      "30 HEMA free\n",
      "29 HEMA FREE\n",
      "25 HEMA Free\n",
      "19 HEMA FREE\n",
      "14 HEMA FREE\n",
      "12 HEMA FREE\n",
      "9 HEMA FREE\n",
      "5 HEMA free\n",
      "3 HEMA free\n",
      "2 HEMA FREE\n",
      "1 HEMA Free\n"
     ]
    }
   ],
   "source": [
    "for p in Post.objects.filter(blog=1,blog_start_dt__isnull=False):\n",
    "    #print (p.title,re.search('now',p.title,re.I))\n",
    "    if re.search(r'hema free',p.text,re.I):\n",
    "        print(p.id,re.search(r'hema free',p.text,re.I)[0])"
   ]
  }
 ],
 "metadata": {
  "kernelspec": {
   "display_name": "Django Shell-Plus",
   "language": "python",
   "name": "django_extensions"
  },
  "language_info": {
   "codemirror_mode": {
    "name": "ipython",
    "version": 3
   },
   "file_extension": ".py",
   "mimetype": "text/x-python",
   "name": "python",
   "nbconvert_exporter": "python",
   "pygments_lexer": "ipython3",
   "version": "3.8.5"
  }
 },
 "nbformat": 4,
 "nbformat_minor": 5
}

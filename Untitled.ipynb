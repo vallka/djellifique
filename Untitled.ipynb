{
 "cells": [
  {
   "cell_type": "code",
   "execution_count": 1,
   "id": "b388d58b",
   "metadata": {},
   "outputs": [],
   "source": [
    "from blog import *\n",
    "import re\n",
    "\n"
   ]
  },
  {
   "cell_type": "code",
   "execution_count": 70,
   "id": "49708750",
   "metadata": {},
   "outputs": [],
   "source": [
    "text=\"\"\"\n",
    "Primers with acid penetrate the nail plate much deeper compared to other nail prep solutions and can overtime have a destructive effect on the nail plate. Too much acidity is simply not very good for the natural nails as a certail level of acid is present in many nail products in order to improve .. you guessed it - adhesion!\n",
    "\n",
    "Hence is why we have launched our Pro Care range and are slowly moving towards producing more technologically advanced products, reducing the total levels of acidity in products across the product line.\n",
    "\n",
    "\n",
    "<<<<\n",
    "https://www.gellifique.co.uk/en/base-and-top-coat/-acid-free-primer(2028).html\n",
    "the phrase one\n",
    "\n",
    "<<<<\n",
    "https://www.gellifique.co.uk/en/brushes-/-oval-gel-nail-art-brush(1382).html\n",
    "\n",
    "-\n",
    "\n",
    ">>>>\n",
    "https://www.gellifique.co.uk/en/advance-hard-gel/-smitten(1219).html\n",
    "the phrase three\n",
    "\n",
    "\n",
    "\n",
    "\n",
    "\"\"\""
   ]
  },
  {
   "cell_type": "code",
   "execution_count": 39,
   "id": "871ac657",
   "metadata": {},
   "outputs": [
    {
     "data": {
      "text/plain": [
       "'\\nPrimers with acid penetrate the nail plate much deeper compared to other nail prep solutions and can overtime have a destructive effect on the nail plate. Too much acidity is simply not very good for the natural nails as a certail level of acid is present in many nail products in order to improve .. you guessed it - adhesion!\\n\\nHence is why we have launched our Pro Care range and are slowly moving towards producing more technologically advanced products, reducing the total levels of acidity in products across the product line.\\n\\n\\n<<<<\\nhttps://www.gellifique.co.uk/en/base-and-top-coat/-acid-free-primer(2028).htm\\nthe phrase one\\n\\n<<<<\\nhttps://www.gellifique.co.uk/en/brushes-/-oval-gel-nail-art-brush(1382).html\\n\\n\\n<<<<\\nhttps://www.gellifique.co.uk/en/advance-hard-gel/-smitten(1219).html\\nthe phrase three\\n\\n\\n\\n\\n'"
      ]
     },
     "execution_count": 39,
     "metadata": {},
     "output_type": "execute_result"
    }
   ],
   "source": [
    "text"
   ]
  },
  {
   "cell_type": "code",
   "execution_count": 72,
   "id": "97466aaa",
   "metadata": {},
   "outputs": [
    {
     "data": {
      "text/plain": [
       "[('<<<<',\n",
       "  '<<<<',\n",
       "  '',\n",
       "  'https://www.gellifique.co.uk/en/base-and-top-coat/-acid-free-primer(2028).html',\n",
       "  'the phrase one\\n'),\n",
       " ('<<<<',\n",
       "  '<<<<',\n",
       "  '',\n",
       "  'https://www.gellifique.co.uk/en/brushes-/-oval-gel-nail-art-brush(1382).html',\n",
       "  '\\n'),\n",
       " ('>>>>',\n",
       "  '',\n",
       "  '>>>>',\n",
       "  'https://www.gellifique.co.uk/en/advance-hard-gel/-smitten(1219).html',\n",
       "  'the phrase three\\n')]"
      ]
     },
     "execution_count": 72,
     "metadata": {},
     "output_type": "execute_result"
    }
   ],
   "source": [
    "product_re = r\"\\s*((<<<<)|(>>>>))\\r?\\n(https:\\/\\/www.gellifique.co.uk\\/.+?\\.html)\\r?\\n([^\\n]*\\r?\\n)?\"\n",
    "\n",
    "prods = re.findall(product_re,text)\n",
    "prods"
   ]
  },
  {
   "cell_type": "code",
   "execution_count": 14,
   "id": "ff9488ec",
   "metadata": {},
   "outputs": [
    {
     "data": {
      "text/plain": [
       "'https://www.gellifique.co.uk/en/base-and-top-coat/-acid-free-primer(2028).html'"
      ]
     },
     "execution_count": 14,
     "metadata": {},
     "output_type": "execute_result"
    }
   ],
   "source": [
    "prods[0][1]"
   ]
  },
  {
   "cell_type": "code",
   "execution_count": 5,
   "id": "5845d0f5",
   "metadata": {},
   "outputs": [],
   "source": [
    "import os\n",
    "os.environ[\"DJANGO_ALLOW_ASYNC_UNSAFE\"] = \"true\""
   ]
  },
  {
   "cell_type": "code",
   "execution_count": 3,
   "id": "a5fb5e26",
   "metadata": {},
   "outputs": [
    {
     "data": {
      "text/plain": [
       "<QuerySet [<Post: 108:easter-bargain-hunt>, <Post: 107:easter-savings-hurry-ends-monday>, <Post: 106:living-wage-employer-accreditation>, <Post: 105:mothers-day-copy-by-vk>, <Post: 104:mothers-day-weekend>, <Post: 103:how-to-use-tables>, <Post: 102:dermal-allergies-to-nail-products>, <Post: 101:full-tip-system-25>, <Post: 100:changes-to-bulk-discounts>, <Post: 99:valentines-day-edit-savings>, <Post: 98:get-ready-for-spring>, <Post: 97:Essentials>, <Post: 96:gelly-tips>, <Post: 95:primer-dehydrator-or-bonder>, <Post: 94:last-day-sale>, <Post: 93:pantone-colour-of-the-year-2022>, <Post: 92:giveaway-welcome-2022>, <Post: 91:christmas-wishes-from-our-team>, <Post: 90:_products_carousel2>, <Post: 89:_products_carousel>, '...(remaining elements truncated)...']>"
      ]
     },
     "execution_count": 3,
     "metadata": {},
     "output_type": "execute_result"
    }
   ],
   "source": [
    "pp = Post.objects.all()\n",
    "pp"
   ]
  },
  {
   "cell_type": "code",
   "execution_count": 4,
   "id": "330a2d64",
   "metadata": {},
   "outputs": [
    {
     "data": {
      "text/plain": [
       "44"
      ]
     },
     "execution_count": 4,
     "metadata": {},
     "output_type": "execute_result"
    }
   ],
   "source": [
    "len(Post.objects.filter(blog=1,blog_start_dt__isnull=False))"
   ]
  },
  {
   "cell_type": "code",
   "execution_count": 46,
   "id": "5b9a9a73",
   "metadata": {},
   "outputs": [
    {
     "name": "stdout",
     "output_type": "stream",
     "text": [
      "97 HEMA FREE\n",
      "93 HEMA FREE\n",
      "71 HEMA FREE\n",
      "70 HEMA FREE\n",
      "62 HEMA free\n",
      "59 HEMA free\n",
      "58 HEMA FREE\n",
      "57 HEMA FREE\n",
      "56 HEMA FREE\n",
      "54 HEMA FREE\n",
      "49 HEMA FREE\n",
      "48 HEMA FREE\n",
      "46 HEMA FREE\n",
      "31 HEMA Free\n",
      "30 HEMA free\n",
      "29 HEMA FREE\n",
      "25 HEMA Free\n",
      "19 HEMA FREE\n",
      "14 HEMA FREE\n",
      "12 HEMA FREE\n",
      "9 HEMA FREE\n",
      "5 HEMA free\n",
      "3 HEMA free\n",
      "2 HEMA FREE\n",
      "1 HEMA Free\n"
     ]
    }
   ],
   "source": [
    "for p in Post.objects.filter(blog=1,blog_start_dt__isnull=False):\n",
    "    #print (p.title,re.search('now',p.title,re.I))\n",
    "    if re.search(r'hema free',p.text,re.I):\n",
    "        print(p.id,re.search(r'hema free',p.text,re.I)[0])"
   ]
  },
  {
   "cell_type": "code",
   "execution_count": 3,
   "id": "7e07c9f6",
   "metadata": {},
   "outputs": [],
   "source": [
    "from django.conf import settings\n",
    "from django.db import connections"
   ]
  },
  {
   "cell_type": "code",
   "execution_count": 44,
   "id": "a2670fc8",
   "metadata": {},
   "outputs": [],
   "source": [
    "with connections['default'].cursor() as cursor:\n",
    "    cursor.execute(\"SELECT id_product,id_shop,id_lang,name FROM gellifique_eu.ps17_product_lang WHERE id_shop=2 and (name like '%hema free%' or name like '%sin hema%') order by id_product,id_lang limit 0,100\")\n",
    "    for row in cursor.fetchall():\n",
    "        id_product=row[0]\n",
    "        id_shop=row[1]\n",
    "        id_lang=row[2]\n",
    "        name=row[3]\n",
    "        print(id_product,id_shop,id_lang ,name,re.sub(r'\\s*(\\(HEMA FREE\\))|(\\(SIN HEMA\\))\\s*','',name,re.I))\n",
    "        cursor.execute(\"UPDATE gellifique_eu.ps17_product_lang SET name=%s WHERE id_product=%s and id_shop=%s and id_lang=%s\",\n",
    "            (re.sub(r'\\s*(\\(HEMA FREE\\))|(\\(SIN HEMA\\))\\s*','',name,re.I),id_product,id_shop,id_lang))\n",
    "    "
   ]
  },
  {
   "cell_type": "code",
   "execution_count": 91,
   "id": "6da0ba1a",
   "metadata": {},
   "outputs": [
    {
     "name": "stdout",
     "output_type": "stream",
     "text": [
      "774 1 1 starry-skyhema-free starry-skyhema-free\n",
      "1541 1 1 swarovski-jet-hematite-200 swarovski-jet-hematite-200\n"
     ]
    }
   ],
   "source": [
    "with connections['default'].cursor() as cursor:\n",
    "    cursor.execute(\"SELECT id_product,id_shop,id_lang,link_rewrite FROM gellifique_new.ps17_product_lang \" + \n",
    "        \"WHERE id_shop=1 and link_rewrite like '%hema%' order by id_product,id_lang limit 0,50\")\n",
    "    for row in cursor.fetchall():\n",
    "        id_product=row[0]\n",
    "        id_shop=row[1]\n",
    "        id_lang=row[2]\n",
    "        name=row[3]\n",
    "        print(id_product,id_shop,id_lang ,name,re.sub(r'\\s*-((sin-)|(libre-de-))?hema-?[a-z\\-]*\\s*$','',name,re.I))\n",
    "        cursor.execute(\"UPDATE gellifique_new.ps17_product_lang SET link_rewrite=%s WHERE id_product=%s and id_shop=%s and id_lang=%s\",\n",
    "           (re.sub(r'\\s*-((sin-)|(libre-de-))?hema-?[a-z\\-]*\\s*$','',name,re.I),id_product,id_shop,id_lang))"
   ]
  },
  {
   "cell_type": "code",
   "execution_count": 99,
   "id": "1a4afa8e",
   "metadata": {},
   "outputs": [],
   "source": [
    "with connections['default'].cursor() as cursor:\n",
    "    cursor.execute(\"SELECT id_category,id_shop,id_lang,link_rewrite FROM gellifique_new.ps17_category_lang \" + \n",
    "        \"WHERE id_shop=1 and link_rewrite like '%hema%' order by id_category,id_lang limit 0,50\")\n",
    "    for row in cursor.fetchall():\n",
    "        id_category=row[0]\n",
    "        id_shop=row[1]\n",
    "        id_lang=row[2]\n",
    "        name=row[3]\n",
    "        print(id_category,id_shop,id_lang ,name,re.sub(r'\\s*-((sin-)|(libre-de-))?hema-?[a-z\\-]*\\s*$','',name,re.I))\n",
    "        cursor.execute(\"UPDATE gellifique_new.ps17_category_lang SET link_rewrite=%s WHERE id_category=%s and id_shop=%s and id_lang=%s\",\n",
    "           (re.sub(r'\\s*-((sin-)|(libre-de-))?hema-?[a-z\\-]*\\s*$','',name,re.I),id_category,id_shop,id_lang))"
   ]
  },
  {
   "cell_type": "code",
   "execution_count": 14,
   "id": "ac528aa8",
   "metadata": {},
   "outputs": [],
   "source": [
    "new=1777\n",
    "old=1204\n",
    "with connections['presta_eu'].cursor() as cursor:\n",
    "    cursor.execute(\"UPDATE ps17_product SET id_product=%s WHERE id_product=%s\",[new,old])\n",
    "    cursor.execute(\"UPDATE ps17_product_shop SET id_product=%s WHERE id_product=%s\",[new,old])\n",
    "    cursor.execute(\"UPDATE ps17_product_lang SET id_product=%s WHERE id_product=%s\",[new,old])\n",
    "    cursor.execute(\"UPDATE ps17_product_shop SET id_product=%s WHERE id_product=%s\",[new,old])\n",
    "    cursor.execute(\"UPDATE ps17_category_product SET id_product=%s WHERE id_product=%s\",[new,old])\n",
    "    cursor.execute(\"UPDATE ps17_image SET id_product=%s WHERE id_product=%s\",[new,old])\n",
    "    cursor.execute(\"UPDATE ps17_image_shop SET id_product=%s WHERE id_product=%s\",[new,old])\n"
   ]
  }
 ],
 "metadata": {
  "kernelspec": {
   "display_name": "Django Shell-Plus",
   "language": "python",
   "name": "django_extensions"
  },
  "language_info": {
   "codemirror_mode": {
    "name": "ipython",
    "version": 3
   },
   "file_extension": ".py",
   "mimetype": "text/x-python",
   "name": "python",
   "nbconvert_exporter": "python",
   "pygments_lexer": "ipython3",
   "version": "3.8.5 (default, Sep  3 2020, 21:29:08) [MSC v.1916 64 bit (AMD64)]"
  },
  "vscode": {
   "interpreter": {
    "hash": "54aba9fbefe3b9078c59180d012a34c3b5bac11eea058c8a60927e1030f58f68"
   }
  }
 },
 "nbformat": 4,
 "nbformat_minor": 5
}

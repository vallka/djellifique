{
 "cells": [
  {
   "cell_type": "code",
   "execution_count": 9,
   "metadata": {},
   "outputs": [],
   "source": [
    "import re\n",
    "import requests\n",
    "from bs4 import BeautifulSoup"
   ]
  },
  {
   "cell_type": "code",
   "execution_count": null,
   "metadata": {},
   "outputs": [],
   "source": [
    "prod_html = requests.get('https://www.gellifique.co.uk/en/magnetic/-triton(1363).html')\n",
    "prod_html"
   ]
  },
  {
   "cell_type": "code",
   "execution_count": null,
   "metadata": {},
   "outputs": [],
   "source": [
    "tp = requests.get('https://uk.trustpilot.com/review/gellifique.co.uk?utm_medium=trustbox&utm_source=MicroReviewCount')\n",
    "tp"
   ]
  },
  {
   "cell_type": "code",
   "execution_count": null,
   "metadata": {},
   "outputs": [],
   "source": [
    "soup = BeautifulSoup(tp.text, 'html.parser')"
   ]
  },
  {
   "cell_type": "code",
   "execution_count": 12,
   "metadata": {},
   "outputs": [
    {
     "data": {
      "text/plain": [
       "<p class=\"typography_body-l__KUYFJ typography_appearance-default__AAY17\" data-reviews-count-typography=\"true\">259<!-- --> total</p>"
      ]
     },
     "execution_count": 12,
     "metadata": {},
     "output_type": "execute_result"
    }
   ],
   "source": [
    "p=soup.find('p',attrs={'data-reviews-count-typography':'true'})\n",
    "p"
   ]
  },
  {
   "cell_type": "code",
   "execution_count": 15,
   "metadata": {},
   "outputs": [
    {
     "data": {
      "text/plain": [
       "'259'"
      ]
     },
     "execution_count": 15,
     "metadata": {},
     "output_type": "execute_result"
    }
   ],
   "source": [
    "re.sub('\\D?','',p.text)"
   ]
  },
  {
   "cell_type": "code",
   "execution_count": null,
   "metadata": {},
   "outputs": [],
   "source": [
    "soup = BeautifulSoup(prod_html.text, 'html.parser')\n",
    "prod_name = soup.find('h1',attrs={'itemprop':'name','class':'h1'})\n",
    "prod_price = soup.find(attrs={'itemprop':'price'})\n",
    "prod_img = soup.find('img',attrs={'itemprop':'image'})"
   ]
  },
  {
   "cell_type": "code",
   "execution_count": null,
   "metadata": {},
   "outputs": [],
   "source": [
    "prod_name.parent.find(attrs={'itemprop':'price'})"
   ]
  },
  {
   "cell_type": "code",
   "execution_count": null,
   "metadata": {},
   "outputs": [],
   "source": [
    "prod_name.parent.parent.find('img',attrs={'itemprop':'image'})"
   ]
  },
  {
   "cell_type": "code",
   "execution_count": null,
   "metadata": {},
   "outputs": [],
   "source": [
    "prod_name.parent.find('span',attrs={'class':'regular-price'})"
   ]
  },
  {
   "cell_type": "code",
   "execution_count": null,
   "metadata": {},
   "outputs": [],
   "source": [
    "prod_name.parent.find('span',attrs={'class':'discount'}).text"
   ]
  },
  {
   "cell_type": "code",
   "execution_count": null,
   "metadata": {},
   "outputs": [],
   "source": [
    "product_re = r\"(\\[\\])?\\(?(https:\\/\\/www.gellifique.co.uk\\/.+?\\.html)\\)?\""
   ]
  },
  {
   "cell_type": "code",
   "execution_count": null,
   "metadata": {},
   "outputs": [],
   "source": [
    "text =\"\"\"\n",
    "\n",
    "[](https://www.gellifique.co.uk/en/gel-colour-/-steel\\(845\\).html)\n",
    "\n",
    "[](https://www.gellifique.co.uk/en/gel-/-steel\\(845\\).html)\n",
    "\n",
    "https://www.gellifique.co.uk/en/magnetic/-triton(1363).html\n",
    "\n",
    "[](https://www.gellifique.co.uk/en/magnetic/-triton(1363).html)\n",
    "\n",
    "\"\"\""
   ]
  },
  {
   "cell_type": "code",
   "execution_count": null,
   "metadata": {},
   "outputs": [],
   "source": [
    "prods = re.findall(product_re,text)\n",
    "prods[0][1].replace('\\\\','')"
   ]
  },
  {
   "cell_type": "code",
   "execution_count": null,
   "metadata": {},
   "outputs": [],
   "source": [
    "prods"
   ]
  },
  {
   "cell_type": "code",
   "execution_count": 6,
   "metadata": {},
   "outputs": [],
   "source": [
    "html= 'aaa <a href=\"https://www.gellifique.eu/fr/base-and-top-coat(18)\" style=\"text-decoration:none!important;color:#fff!important;margin:2px 2px;font-size:10px!important;background-color:#1a1a1a!important;text-transform:uppercase!important\" target=\"_blank\" data-saferedirecturl=\"https://www.google.com/url?q=https://www.gellifique.eu/fr/base-and-top-coat(18)&amp;source=gmail&amp;ust=1674924336294000&amp;usg=AOvVaw1QfyO7shi4763B5SXKxhkE\">BASE &amp; TOP</a> bbb'"
   ]
  },
  {
   "cell_type": "code",
   "execution_count": 45,
   "metadata": {},
   "outputs": [],
   "source": [
    "html= 'aaa<a href=\"https://www.gellifique.co.uk/en/brushes-(116)\" class=\"item\">BRUSHES</a> bbb'"
   ]
  },
  {
   "cell_type": "code",
   "execution_count": 54,
   "metadata": {},
   "outputs": [],
   "source": [
    "html = \"\"\"\n",
    "<div class=\"www\">\n",
    "                <a href=\"https://www.gellifique.eu/\">www.gellifique.eu</a>\n",
    "            </div>\n",
    "\"\"\"            \n"
   ]
  },
  {
   "cell_type": "code",
   "execution_count": 57,
   "metadata": {},
   "outputs": [],
   "source": [
    "html = \"\"\"\n",
    " <div class=\"navbar\">\n",
    "            <a href=\"https://www.gellifique.eu/uk/100-gel-polish-colour(60)\" class=\"navbar-item\">GEL COLOUR</a>\n",
    "            <a href=\"https://www.gellifique.eu/uk/base-and-top-coat(18)\" class=\"navbar-item\">BASE &amp; TOP</a>\n",
    "            <a href=\"https://www.gellifique.eu/uk/apex-gel-builder-in-a-bottle(87)\" class=\"navbar-item\">APEX GEL</a>\n",
    "            <a href=\"https://www.gellifique.eu/uk/brushes-(116)\" class=\"navbar-item\">BRUSHES</a>\n",
    "          </div>\n",
    "\n",
    "\"\"\""
   ]
  },
  {
   "cell_type": "code",
   "execution_count": 44,
   "metadata": {},
   "outputs": [],
   "source": [
    "html= 'aaa<a href=\"https://www.gellifique.co.uk/en/gellifique(21)\">OUTLET</a></a> bbb'"
   ]
  },
  {
   "cell_type": "code",
   "execution_count": 58,
   "metadata": {},
   "outputs": [
    {
     "data": {
      "text/plain": [
       "'\\n <div class=\"navbar\">\\n            <a href=\"https://www.gellifique.eu/uk/100-gel-polish-colour(60)\" class=\"navbar-item\">GEL COLOUR</a>\\n            <a href=\"https://www.gellifique.eu/uk/base-and-top-coat(18)\" class=\"navbar-item\">BASE &amp; TOP</a>\\n            <a href=\"https://www.gellifique.eu/uk/apex-gel-builder-in-a-bottle(87)\" class=\"navbar-item\">APEX GEL</a>\\n            <a href=\"https://www.gellifique.eu/uk/brushes-(116)\" class=\"navbar-item\">BRUSHES</a>\\n          </div>\\n\\n'"
      ]
     },
     "execution_count": 58,
     "metadata": {},
     "output_type": "execute_result"
    }
   ],
   "source": [
    "html"
   ]
  },
  {
   "cell_type": "code",
   "execution_count": 33,
   "metadata": {},
   "outputs": [],
   "source": [
    "_post_title = 'Title'\n",
    "_post_id = 123"
   ]
  },
  {
   "cell_type": "code",
   "execution_count": 36,
   "metadata": {},
   "outputs": [],
   "source": [
    "import urllib\n"
   ]
  },
  {
   "cell_type": "code",
   "execution_count": 34,
   "metadata": {},
   "outputs": [],
   "source": [
    "def my_replace(match):\n",
    "    match1 = match.group(1)\n",
    "    match2 = match.group(2)\n",
    "    match3 = match.group(3)\n",
    "\n",
    "    url = f\"{match3}?utm_source=newsletter&utm_medium=email&utm_campaign={_post_title}&utm_id={_post_id}\"\n",
    "    url = urllib.parse.quote_plus(url)\n",
    "\n",
    "    blog_url = 'https://blog.gellifique.co.uk/'\n",
    "\n",
    "    return f'{match1}{blog_url}blog/newsletter/click/####uuid####/?path={match2}{url}'"
   ]
  },
  {
   "cell_type": "code",
   "execution_count": 59,
   "metadata": {},
   "outputs": [
    {
     "data": {
      "text/plain": [
       "'\\n <div class=\"navbar\">\\n            <a href=\"https://blog.gellifique.co.uk/blog/newsletter/click/####uuid####/?path=https://www.gellifique.eu/uk%2F100-gel-polish-colour%2860%29%3Futm_source%3Dnewsletter%26utm_medium%3Demail%26utm_campaign%3DTitle%26utm_id%3D123\" class=\"navbar-item\">GEL COLOUR</a>\\n            <a href=\"https://blog.gellifique.co.uk/blog/newsletter/click/####uuid####/?path=https://www.gellifique.eu/uk%2Fbase-and-top-coat%2818%29%3Futm_source%3Dnewsletter%26utm_medium%3Demail%26utm_campaign%3DTitle%26utm_id%3D123\" class=\"navbar-item\">BASE &amp; TOP</a>\\n            <a href=\"https://blog.gellifique.co.uk/blog/newsletter/click/####uuid####/?path=https://www.gellifique.eu/uk%2Fapex-gel-builder-in-a-bottle%2887%29%3Futm_source%3Dnewsletter%26utm_medium%3Demail%26utm_campaign%3DTitle%26utm_id%3D123\" class=\"navbar-item\">APEX GEL</a>\\n            <a href=\"https://blog.gellifique.co.uk/blog/newsletter/click/####uuid####/?path=https://www.gellifique.eu/uk%2Fbrushes-%28116%29%3Futm_source%3Dnewsletter%26utm_medium%3Demail%26utm_campaign%3DTitle%26utm_id%3D123\" class=\"navbar-item\">BRUSHES</a>\\n          </div>\\n\\n'"
      ]
     },
     "execution_count": 59,
     "metadata": {},
     "output_type": "execute_result"
    }
   ],
   "source": [
    "re.sub(r'(<a\\s+href=\")(https://www\\.gellifique\\.[couke]+/)([^\"]*)',my_replace,html)"
   ]
  },
  {
   "cell_type": "code",
   "execution_count": null,
   "metadata": {},
   "outputs": [],
   "source": []
  },
  {
   "cell_type": "code",
   "execution_count": 52,
   "metadata": {},
   "outputs": [
    {
     "data": {
      "text/plain": [
       "[('<a href=\"',\n",
       "  'https://www.gellifique.eu/',\n",
       "  'en/apex-gel-builder-in-a-bottle(87)')]"
      ]
     },
     "execution_count": 52,
     "metadata": {},
     "output_type": "execute_result"
    }
   ],
   "source": [
    "re.findall(r'(<a\\s+href=\")(https://www\\.gellifique\\.[couke]+/)([^\"]*)',html)"
   ]
  }
 ],
 "metadata": {
  "kernelspec": {
   "display_name": "Python 3.8.5 ('.venv': pipenv)",
   "language": "python",
   "name": "python3"
  },
  "language_info": {
   "codemirror_mode": {
    "name": "ipython",
    "version": 3
   },
   "file_extension": ".py",
   "mimetype": "text/x-python",
   "name": "python",
   "nbconvert_exporter": "python",
   "pygments_lexer": "ipython3",
   "version": "3.8.5"
  },
  "vscode": {
   "interpreter": {
    "hash": "54aba9fbefe3b9078c59180d012a34c3b5bac11eea058c8a60927e1030f58f68"
   }
  }
 },
 "nbformat": 4,
 "nbformat_minor": 2
}

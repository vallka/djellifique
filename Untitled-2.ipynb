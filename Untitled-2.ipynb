{
 "cells": [
  {
   "cell_type": "code",
   "execution_count": null,
   "metadata": {},
   "outputs": [],
   "source": [
    "import plotly.express as px\n",
    "df = px.data.iris()\n",
    "# Use column names instead. This is the same chart as above.\n",
    "fig = px.scatter(df, x='sepal_length', y='sepal_width', color='species', size='petal_length')\n",
    "fig.show()"
   ]
  },
  {
   "cell_type": "code",
   "execution_count": 1,
   "metadata": {},
   "outputs": [],
   "source": [
    "import re"
   ]
  },
  {
   "cell_type": "code",
   "execution_count": 2,
   "metadata": {},
   "outputs": [],
   "source": [
    "product_re = r\"(\\[\\])\\((https:\\/\\/www.gellifique.co.uk\\/.+?\\.html)\\)\""
   ]
  },
  {
   "cell_type": "code",
   "execution_count": 3,
   "metadata": {},
   "outputs": [],
   "source": [
    "text =\"\"\"\n",
    "\n",
    "[](https://www.gellifique.co.uk/en/gel-colour-/-steel\\(845\\).html)\n",
    "\n",
    "[](https://www.gellifique.co.uk/en/gel-/-steel\\(845\\).html)\n",
    "\n",
    "\n",
    "\"\"\""
   ]
  },
  {
   "cell_type": "code",
   "execution_count": 10,
   "metadata": {},
   "outputs": [
    {
     "data": {
      "text/plain": [
       "'https://www.gellifique.co.uk/en/gel-colour-/-steel(845).html'"
      ]
     },
     "execution_count": 10,
     "metadata": {},
     "output_type": "execute_result"
    }
   ],
   "source": [
    "prods = re.findall(product_re,text)\n",
    "prods[0][1].replace('\\\\','')"
   ]
  }
 ],
 "metadata": {
  "kernelspec": {
   "display_name": "Python 3.8.5 ('.venv': pipenv)",
   "language": "python",
   "name": "python3"
  },
  "language_info": {
   "codemirror_mode": {
    "name": "ipython",
    "version": 3
   },
   "file_extension": ".py",
   "mimetype": "text/x-python",
   "name": "python",
   "nbconvert_exporter": "python",
   "pygments_lexer": "ipython3",
   "version": "3.8.5"
  },
  "vscode": {
   "interpreter": {
    "hash": "54aba9fbefe3b9078c59180d012a34c3b5bac11eea058c8a60927e1030f58f68"
   }
  }
 },
 "nbformat": 4,
 "nbformat_minor": 2
}

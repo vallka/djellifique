{
 "cells": [
  {
   "cell_type": "code",
   "execution_count": null,
   "metadata": {},
   "outputs": [],
   "source": [
    "import re\n",
    "import requests\n",
    "from bs4 import BeautifulSoup"
   ]
  },
  {
   "cell_type": "code",
   "execution_count": null,
   "metadata": {},
   "outputs": [],
   "source": [
    "prod_html = requests.get('https://www.gellifique.co.uk/en/magnetic/-triton(1363).html')\n",
    "prod_html"
   ]
  },
  {
   "cell_type": "code",
   "execution_count": null,
   "metadata": {},
   "outputs": [],
   "source": [
    "tp = requests.get('https://uk.trustpilot.com/review/gellifique.co.uk?utm_medium=trustbox&utm_source=MicroReviewCount')\n",
    "tp"
   ]
  },
  {
   "cell_type": "code",
   "execution_count": null,
   "metadata": {},
   "outputs": [],
   "source": [
    "soup = BeautifulSoup(tp.text, 'html.parser')"
   ]
  },
  {
   "cell_type": "code",
   "execution_count": 12,
   "metadata": {},
   "outputs": [
    {
     "data": {
      "text/plain": [
       "<p class=\"typography_body-l__KUYFJ typography_appearance-default__AAY17\" data-reviews-count-typography=\"true\">259<!-- --> total</p>"
      ]
     },
     "execution_count": 12,
     "metadata": {},
     "output_type": "execute_result"
    }
   ],
   "source": [
    "p=soup.find('p',attrs={'data-reviews-count-typography':'true'})\n",
    "p"
   ]
  },
  {
   "cell_type": "code",
   "execution_count": 15,
   "metadata": {},
   "outputs": [
    {
     "data": {
      "text/plain": [
       "'259'"
      ]
     },
     "execution_count": 15,
     "metadata": {},
     "output_type": "execute_result"
    }
   ],
   "source": [
    "re.sub('\\D?','',p.text)"
   ]
  },
  {
   "cell_type": "code",
   "execution_count": null,
   "metadata": {},
   "outputs": [],
   "source": [
    "soup = BeautifulSoup(prod_html.text, 'html.parser')\n",
    "prod_name = soup.find('h1',attrs={'itemprop':'name','class':'h1'})\n",
    "prod_price = soup.find(attrs={'itemprop':'price'})\n",
    "prod_img = soup.find('img',attrs={'itemprop':'image'})"
   ]
  },
  {
   "cell_type": "code",
   "execution_count": null,
   "metadata": {},
   "outputs": [],
   "source": [
    "prod_name.parent.find(attrs={'itemprop':'price'})"
   ]
  },
  {
   "cell_type": "code",
   "execution_count": null,
   "metadata": {},
   "outputs": [],
   "source": [
    "prod_name.parent.parent.find('img',attrs={'itemprop':'image'})"
   ]
  },
  {
   "cell_type": "code",
   "execution_count": null,
   "metadata": {},
   "outputs": [],
   "source": [
    "prod_name.parent.find('span',attrs={'class':'regular-price'})"
   ]
  },
  {
   "cell_type": "code",
   "execution_count": null,
   "metadata": {},
   "outputs": [],
   "source": [
    "prod_name.parent.find('span',attrs={'class':'discount'}).text"
   ]
  },
  {
   "cell_type": "code",
   "execution_count": null,
   "metadata": {},
   "outputs": [],
   "source": [
    "product_re = r\"(\\[\\])?\\(?(https:\\/\\/www.gellifique.co.uk\\/.+?\\.html)\\)?\""
   ]
  },
  {
   "cell_type": "code",
   "execution_count": null,
   "metadata": {},
   "outputs": [],
   "source": [
    "text =\"\"\"\n",
    "\n",
    "[](https://www.gellifique.co.uk/en/gel-colour-/-steel\\(845\\).html)\n",
    "\n",
    "[](https://www.gellifique.co.uk/en/gel-/-steel\\(845\\).html)\n",
    "\n",
    "https://www.gellifique.co.uk/en/magnetic/-triton(1363).html\n",
    "\n",
    "[](https://www.gellifique.co.uk/en/magnetic/-triton(1363).html)\n",
    "\n",
    "\"\"\""
   ]
  },
  {
   "cell_type": "code",
   "execution_count": null,
   "metadata": {},
   "outputs": [],
   "source": [
    "prods = re.findall(product_re,text)\n",
    "prods[0][1].replace('\\\\','')"
   ]
  },
  {
   "cell_type": "code",
   "execution_count": null,
   "metadata": {},
   "outputs": [],
   "source": [
    "prods"
   ]
  }
 ],
 "metadata": {
  "kernelspec": {
   "display_name": "Python 3.8.5 ('.venv': pipenv)",
   "language": "python",
   "name": "python3"
  },
  "language_info": {
   "codemirror_mode": {
    "name": "ipython",
    "version": 3
   },
   "file_extension": ".py",
   "mimetype": "text/x-python",
   "name": "python",
   "nbconvert_exporter": "python",
   "pygments_lexer": "ipython3",
   "version": "3.8.5 (default, Sep  3 2020, 21:29:08) [MSC v.1916 64 bit (AMD64)]"
  },
  "vscode": {
   "interpreter": {
    "hash": "54aba9fbefe3b9078c59180d012a34c3b5bac11eea058c8a60927e1030f58f68"
   }
  }
 },
 "nbformat": 4,
 "nbformat_minor": 2
}

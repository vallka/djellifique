{
 "cells": [
  {
   "cell_type": "code",
   "execution_count": 1,
   "metadata": {},
   "outputs": [],
   "source": [
    "import re\n",
    "import requests\n",
    "from bs4 import BeautifulSoup"
   ]
  },
  {
   "cell_type": "code",
   "execution_count": 2,
   "metadata": {},
   "outputs": [],
   "source": [
    "s='''\n",
    "<table>\n",
    "<thead>\n",
    "<tr>\n",
    "<th><img alt=\"\" src=\"https://blog.gellifique.co.uk/media/markdownx/2023/08/16/0f3316ae-91d9-47f6-8307-ecaf4eaef31d.jpg\" /></th>\n",
    "<th><img alt=\"\" src=\"https://blog.gellifique.co.uk/media/markdownx/2023/08/16/28a23602-c941-4497-9319-67251dc977f9.jpg\" /></th>\n",
    "<th><img alt=\"\" src=\"https://blog.gellifique.co.uk/media/markdownx/2023/08/16/07f7c29b-1072-4f41-b48a-6187f4e62e60.jpg\" /></th>\n",
    "</tr>\n",
    "</thead>\n",
    "<tbody>\n",
    "<tr>\n",
    "<td>Milk Bath - Original</td>\n",
    "<td>Milk Bath - Improved</td>\n",
    "<td>Organza - New</td>\n",
    "</tr>\n",
    "</tbody>\n",
    "</table>\n",
    "<hr />\n",
    "<p>If you've been enjoying the remarkable results of the<a href=\"https://www.gellifique.co.uk/en/smart-base-biab(152)\"> Smart Base range</a> in your salon and haven't yet heard the latest news prepare to be even more impressed. We are excited to announce that your favorite formula is now enriched with Vitamin E – and this upgrade comes at no additional cost to you!</p>\n",
    "<p>Are your clients struggling with thin, brittle, or damaged nails (removing product at home) that desperately need some TLC and a shield against external aggressors? Your search for a solution ends here.</p>\n",
    "<p>Our Smart Base has been flying off the shelves so swiftly, and in response to its popularity, we’ve decided to enhance it even further. In addition to introducing two beautiful new shades—Organza and Milk Bath — our all-time bestsellers, Chiffon, Soft Whisper, and Crepe, are now also infused with the nourishing touch of Vitamin E.</p>\n",
    "<h2>Why Opt For Smart Base</h2>\n",
    "<p>Smart Base is a flexible gel designed for structured manicures on thin, brittle, and damaged nails. The formula has been designed to be suitable even for people with dermal intolerances, but please always check the full ingredient list. The product has our signature non-gooey texture, which makes product application and even colour distribution a breeze.</p>\n",
    "<p>Smart Base is of medium hardness, which means that it is still more flexible than <a href=\"https://www.gellifique.co.uk/en/apex-build-biab(87)\">Apex Build</a> and will wear well on thin, damaged natural nails which tend to flex more, for up to 3 weeks. We recommend clients with these types of nails not to wear their gel nail enhancements for longer than 3 weeks until their natural nail plate has grown out and restored. After this period, you could switch to a harder-wearing product like Apex Build, which lasts for around 4 weeks and has more armourising properties.</p>\n",
    "<p>If you are keen to try both of the systems we have an amazing set now available where you can try x 3 Smart Base product and x 3 Apex Build products at a fraction of the cost when purchased as a set. Discover the ultimate kit for structured gel manicures.</p>\n",
    "<!-- >>https://www.gellifique.co.uk/en/soak-off-builder-gel/-nail-resilience-kit-(2109).html\n",
    "-->\n",
    "'''\n"
   ]
  },
  {
   "cell_type": "code",
   "execution_count": 11,
   "metadata": {},
   "outputs": [
    {
     "data": {
      "text/plain": [
       "'-ead>\\n<tr>\\n<th><img alt=\"\" src=\"https://blog.gellifique.co.uk/media/markdownx/2023/08/16/0f3316ae-91d9-47f6-8307-ecaf4eaef31d.jpg\" /></th>\\n<th><img alt=\"\" src=\"https://blog.gellifique.co.uk/media/markdownx/2023/08/16/28a23602-c941-4497-9319-67251dc977f9.jpg\" /></th>\\n<th><img alt=\"\" src=\"https://blog.gellifique.co.uk/media/markdownx/2023/08/16/07f7c29b-1072-4f41-b48a-6187f4e62e60.jpg\" /></th>\\n</tr>\\n</thead>\\n<tbody>\\n<tr>\\n<td>Milk Bath - Original</td>\\n<td>Milk Bath - Improved</td>\\n<td>Organza - New</td>\\n</tr>\\n</tbody>\\n</table>\\n<hr />\\n<p>If you\\'ve been enjoying the remarkable results of the<a href=\"https://www.gellifique.co.uk/en/smart-base-biab(152)\"> Smart Base range</a> in your salon and haven\\'t yet heard the latest news prepare to be even more impressed. We are excited to announce that your favorite formula is now enriched with Vitamin E – and this upgrade comes at no additional cost to you!</p>\\n<p>Are your clients struggling with thin, brittle, or damaged nails (removing product at home) that desperately need some TLC and a shield against external aggressors? Your search for a solution ends here.</p>\\n<p>Our Smart Base has been flying off the shelves so swiftly, and in response to its popularity, we’ve decided to enhance it even further. In addition to introducing two beautiful new shades—Organza and Milk Bath — our all-time bestsellers, Chiffon, Soft Whisper, and Crepe, are now also infused with the nourishing touch of Vitamin E.</p>\\n<h2>Why Opt For Smart Base</h2>\\n<p>Smart Base is a flexible gel designed for structured manicures on thin, brittle, and damaged nails. The formula has been designed to be suitable even for people with dermal intolerances, but please always check the full ingredient list. The product has our signature non-gooey texture, which makes product application and even colour distribution a breeze.</p>\\n<p>Smart Base is of medium hardness, which means that it is still more flexible than <a href=\"https://www.gellifique.co.uk/en/apex-build-biab(87)\">Apex Build</a> and will wear well on thin, damaged natural nails which tend to flex more, for up to 3 weeks. We recommend clients with these types of nails not to wear their gel nail enhancements for longer than 3 weeks until their natural nail plate has grown out and restored. After this period, you could switch to a harder-wearing product like Apex Build, which lasts for around 4 weeks and has more armourising properties.</p>\\n<p>If you are keen to try both of the systems we have an amazing set now available where you can try x 3 Smart Base product and x 3 Apex Build products at a fraction of the cost when purchased as a set. Discover the ultimate kit for structured gel manicures.</p>\\n<!-- >>https://www.gellifique.co.uk/en/soak-off-builder-gel/-nail-resilience-kit-(2109).html\\n-->\\n'"
      ]
     },
     "execution_count": 11,
     "metadata": {},
     "output_type": "execute_result"
    }
   ],
   "source": [
    "re.sub('^.*?th','-',s,flags=re.DOTALL)"
   ]
  },
  {
   "cell_type": "code",
   "execution_count": null,
   "metadata": {},
   "outputs": [],
   "source": [
    "prod_html = requests.get('https://www.gellifique.co.uk/en/magnetic/-triton(1363).html')\n",
    "prod_html"
   ]
  },
  {
   "cell_type": "code",
   "execution_count": null,
   "metadata": {},
   "outputs": [],
   "source": [
    "tp = requests.get('https://uk.trustpilot.com/review/gellifique.co.uk?utm_medium=trustbox&utm_source=MicroReviewCount')\n",
    "tp"
   ]
  },
  {
   "cell_type": "code",
   "execution_count": null,
   "metadata": {},
   "outputs": [],
   "source": [
    "soup = BeautifulSoup(tp.text, 'html.parser')"
   ]
  },
  {
   "cell_type": "code",
   "execution_count": 12,
   "metadata": {},
   "outputs": [
    {
     "data": {
      "text/plain": [
       "<p class=\"typography_body-l__KUYFJ typography_appearance-default__AAY17\" data-reviews-count-typography=\"true\">259<!-- --> total</p>"
      ]
     },
     "execution_count": 12,
     "metadata": {},
     "output_type": "execute_result"
    }
   ],
   "source": [
    "p=soup.find('p',attrs={'data-reviews-count-typography':'true'})\n",
    "p"
   ]
  },
  {
   "cell_type": "code",
   "execution_count": 15,
   "metadata": {},
   "outputs": [
    {
     "data": {
      "text/plain": [
       "'259'"
      ]
     },
     "execution_count": 15,
     "metadata": {},
     "output_type": "execute_result"
    }
   ],
   "source": [
    "re.sub('\\D?','',p.text)"
   ]
  },
  {
   "cell_type": "code",
   "execution_count": null,
   "metadata": {},
   "outputs": [],
   "source": [
    "soup = BeautifulSoup(prod_html.text, 'html.parser')\n",
    "prod_name = soup.find('h1',attrs={'itemprop':'name','class':'h1'})\n",
    "prod_price = soup.find(attrs={'itemprop':'price'})\n",
    "prod_img = soup.find('img',attrs={'itemprop':'image'})"
   ]
  },
  {
   "cell_type": "code",
   "execution_count": null,
   "metadata": {},
   "outputs": [],
   "source": [
    "prod_name.parent.find(attrs={'itemprop':'price'})"
   ]
  },
  {
   "cell_type": "code",
   "execution_count": null,
   "metadata": {},
   "outputs": [],
   "source": [
    "prod_name.parent.parent.find('img',attrs={'itemprop':'image'})"
   ]
  },
  {
   "cell_type": "code",
   "execution_count": null,
   "metadata": {},
   "outputs": [],
   "source": [
    "prod_name.parent.find('span',attrs={'class':'regular-price'})"
   ]
  },
  {
   "cell_type": "code",
   "execution_count": null,
   "metadata": {},
   "outputs": [],
   "source": [
    "prod_name.parent.find('span',attrs={'class':'discount'}).text"
   ]
  },
  {
   "cell_type": "code",
   "execution_count": null,
   "metadata": {},
   "outputs": [],
   "source": [
    "product_re = r\"(\\[\\])?\\(?(https:\\/\\/www.gellifique.co.uk\\/.+?\\.html)\\)?\""
   ]
  },
  {
   "cell_type": "code",
   "execution_count": null,
   "metadata": {},
   "outputs": [],
   "source": [
    "text =\"\"\"\n",
    "\n",
    "[](https://www.gellifique.co.uk/en/gel-colour-/-steel\\(845\\).html)\n",
    "\n",
    "[](https://www.gellifique.co.uk/en/gel-/-steel\\(845\\).html)\n",
    "\n",
    "https://www.gellifique.co.uk/en/magnetic/-triton(1363).html\n",
    "\n",
    "[](https://www.gellifique.co.uk/en/magnetic/-triton(1363).html)\n",
    "\n",
    "\"\"\""
   ]
  },
  {
   "cell_type": "code",
   "execution_count": null,
   "metadata": {},
   "outputs": [],
   "source": [
    "prods = re.findall(product_re,text)\n",
    "prods[0][1].replace('\\\\','')"
   ]
  },
  {
   "cell_type": "code",
   "execution_count": null,
   "metadata": {},
   "outputs": [],
   "source": [
    "prods"
   ]
  },
  {
   "cell_type": "code",
   "execution_count": 6,
   "metadata": {},
   "outputs": [],
   "source": [
    "html= 'aaa <a href=\"https://www.gellifique.eu/fr/base-and-top-coat(18)\" style=\"text-decoration:none!important;color:#fff!important;margin:2px 2px;font-size:10px!important;background-color:#1a1a1a!important;text-transform:uppercase!important\" target=\"_blank\" data-saferedirecturl=\"https://www.google.com/url?q=https://www.gellifique.eu/fr/base-and-top-coat(18)&amp;source=gmail&amp;ust=1674924336294000&amp;usg=AOvVaw1QfyO7shi4763B5SXKxhkE\">BASE &amp; TOP</a> bbb'"
   ]
  },
  {
   "cell_type": "code",
   "execution_count": 45,
   "metadata": {},
   "outputs": [],
   "source": [
    "html= 'aaa<a href=\"https://www.gellifique.co.uk/en/brushes-(116)\" class=\"item\">BRUSHES</a> bbb'"
   ]
  },
  {
   "cell_type": "code",
   "execution_count": 54,
   "metadata": {},
   "outputs": [],
   "source": [
    "html = \"\"\"\n",
    "<div class=\"www\">\n",
    "                <a href=\"https://www.gellifique.eu/\">www.gellifique.eu</a>\n",
    "            </div>\n",
    "\"\"\"            \n"
   ]
  },
  {
   "cell_type": "code",
   "execution_count": 57,
   "metadata": {},
   "outputs": [],
   "source": [
    "html = \"\"\"\n",
    " <div class=\"navbar\">\n",
    "            <a href=\"https://www.gellifique.eu/uk/100-gel-polish-colour(60)\" class=\"navbar-item\">GEL COLOUR</a>\n",
    "            <a href=\"https://www.gellifique.eu/uk/base-and-top-coat(18)\" class=\"navbar-item\">BASE &amp; TOP</a>\n",
    "            <a href=\"https://www.gellifique.eu/uk/apex-gel-builder-in-a-bottle(87)\" class=\"navbar-item\">APEX GEL</a>\n",
    "            <a href=\"https://www.gellifique.eu/uk/brushes-(116)\" class=\"navbar-item\">BRUSHES</a>\n",
    "          </div>\n",
    "\n",
    "\"\"\""
   ]
  },
  {
   "cell_type": "code",
   "execution_count": 44,
   "metadata": {},
   "outputs": [],
   "source": [
    "html= 'aaa<a href=\"https://www.gellifique.co.uk/en/gellifique(21)\">OUTLET</a></a> bbb'"
   ]
  },
  {
   "cell_type": "code",
   "execution_count": 58,
   "metadata": {},
   "outputs": [
    {
     "data": {
      "text/plain": [
       "'\\n <div class=\"navbar\">\\n            <a href=\"https://www.gellifique.eu/uk/100-gel-polish-colour(60)\" class=\"navbar-item\">GEL COLOUR</a>\\n            <a href=\"https://www.gellifique.eu/uk/base-and-top-coat(18)\" class=\"navbar-item\">BASE &amp; TOP</a>\\n            <a href=\"https://www.gellifique.eu/uk/apex-gel-builder-in-a-bottle(87)\" class=\"navbar-item\">APEX GEL</a>\\n            <a href=\"https://www.gellifique.eu/uk/brushes-(116)\" class=\"navbar-item\">BRUSHES</a>\\n          </div>\\n\\n'"
      ]
     },
     "execution_count": 58,
     "metadata": {},
     "output_type": "execute_result"
    }
   ],
   "source": [
    "html"
   ]
  },
  {
   "cell_type": "code",
   "execution_count": 33,
   "metadata": {},
   "outputs": [],
   "source": [
    "_post_title = 'Title'\n",
    "_post_id = 123"
   ]
  },
  {
   "cell_type": "code",
   "execution_count": 36,
   "metadata": {},
   "outputs": [],
   "source": [
    "import urllib\n"
   ]
  },
  {
   "cell_type": "code",
   "execution_count": 34,
   "metadata": {},
   "outputs": [],
   "source": [
    "def my_replace(match):\n",
    "    match1 = match.group(1)\n",
    "    match2 = match.group(2)\n",
    "    match3 = match.group(3)\n",
    "\n",
    "    url = f\"{match3}?utm_source=newsletter&utm_medium=email&utm_campaign={_post_title}&utm_id={_post_id}\"\n",
    "    url = urllib.parse.quote_plus(url)\n",
    "\n",
    "    blog_url = 'https://blog.gellifique.co.uk/'\n",
    "\n",
    "    return f'{match1}{blog_url}blog/newsletter/click/####uuid####/?path={match2}{url}'"
   ]
  },
  {
   "cell_type": "code",
   "execution_count": 59,
   "metadata": {},
   "outputs": [
    {
     "data": {
      "text/plain": [
       "'\\n <div class=\"navbar\">\\n            <a href=\"https://blog.gellifique.co.uk/blog/newsletter/click/####uuid####/?path=https://www.gellifique.eu/uk%2F100-gel-polish-colour%2860%29%3Futm_source%3Dnewsletter%26utm_medium%3Demail%26utm_campaign%3DTitle%26utm_id%3D123\" class=\"navbar-item\">GEL COLOUR</a>\\n            <a href=\"https://blog.gellifique.co.uk/blog/newsletter/click/####uuid####/?path=https://www.gellifique.eu/uk%2Fbase-and-top-coat%2818%29%3Futm_source%3Dnewsletter%26utm_medium%3Demail%26utm_campaign%3DTitle%26utm_id%3D123\" class=\"navbar-item\">BASE &amp; TOP</a>\\n            <a href=\"https://blog.gellifique.co.uk/blog/newsletter/click/####uuid####/?path=https://www.gellifique.eu/uk%2Fapex-gel-builder-in-a-bottle%2887%29%3Futm_source%3Dnewsletter%26utm_medium%3Demail%26utm_campaign%3DTitle%26utm_id%3D123\" class=\"navbar-item\">APEX GEL</a>\\n            <a href=\"https://blog.gellifique.co.uk/blog/newsletter/click/####uuid####/?path=https://www.gellifique.eu/uk%2Fbrushes-%28116%29%3Futm_source%3Dnewsletter%26utm_medium%3Demail%26utm_campaign%3DTitle%26utm_id%3D123\" class=\"navbar-item\">BRUSHES</a>\\n          </div>\\n\\n'"
      ]
     },
     "execution_count": 59,
     "metadata": {},
     "output_type": "execute_result"
    }
   ],
   "source": [
    "re.sub(r'(<a\\s+href=\")(https://www\\.gellifique\\.[couke]+/)([^\"]*)',my_replace,html)"
   ]
  },
  {
   "cell_type": "code",
   "execution_count": null,
   "metadata": {},
   "outputs": [],
   "source": []
  },
  {
   "cell_type": "code",
   "execution_count": 52,
   "metadata": {},
   "outputs": [
    {
     "data": {
      "text/plain": [
       "[('<a href=\"',\n",
       "  'https://www.gellifique.eu/',\n",
       "  'en/apex-gel-builder-in-a-bottle(87)')]"
      ]
     },
     "execution_count": 52,
     "metadata": {},
     "output_type": "execute_result"
    }
   ],
   "source": [
    "re.findall(r'(<a\\s+href=\")(https://www\\.gellifique\\.[couke]+/)([^\"]*)',html)"
   ]
  }
 ],
 "metadata": {
  "kernelspec": {
   "display_name": "Python 3.8.5 ('.venv': pipenv)",
   "language": "python",
   "name": "python3"
  },
  "language_info": {
   "codemirror_mode": {
    "name": "ipython",
    "version": 3
   },
   "file_extension": ".py",
   "mimetype": "text/x-python",
   "name": "python",
   "nbconvert_exporter": "python",
   "pygments_lexer": "ipython3",
   "version": "3.8.5"
  },
  "vscode": {
   "interpreter": {
    "hash": "54aba9fbefe3b9078c59180d012a34c3b5bac11eea058c8a60927e1030f58f68"
   }
  }
 },
 "nbformat": 4,
 "nbformat_minor": 2
}

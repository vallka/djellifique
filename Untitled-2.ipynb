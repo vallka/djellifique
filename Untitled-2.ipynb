{
 "cells": [
  {
   "cell_type": "code",
   "execution_count": 15,
   "metadata": {},
   "outputs": [],
   "source": [
    "import re\n",
    "import requests\n",
    "from bs4 import BeautifulSoup"
   ]
  },
  {
   "cell_type": "code",
   "execution_count": 16,
   "metadata": {},
   "outputs": [
    {
     "data": {
      "text/plain": [
       "<Response [200]>"
      ]
     },
     "execution_count": 16,
     "metadata": {},
     "output_type": "execute_result"
    }
   ],
   "source": [
    "prod_html = requests.get('https://www.gellifique.co.uk/en/magnetic/-triton(1363).html')\n",
    "prod_html"
   ]
  },
  {
   "cell_type": "code",
   "execution_count": 32,
   "metadata": {},
   "outputs": [],
   "source": [
    "soup = BeautifulSoup(prod_html.text, 'html.parser')\n",
    "prod_name = soup.find('h1',attrs={'itemprop':'name','class':'h1'})\n",
    "prod_price = soup.find(attrs={'itemprop':'price'})\n",
    "prod_img = soup.find('img',attrs={'itemprop':'image'})"
   ]
  },
  {
   "cell_type": "code",
   "execution_count": 38,
   "metadata": {},
   "outputs": [
    {
     "data": {
      "text/plain": [
       "<span content=\"5.44\" itemprop=\"price\">£5.44</span>"
      ]
     },
     "execution_count": 38,
     "metadata": {},
     "output_type": "execute_result"
    }
   ],
   "source": [
    "prod_name.parent.find(attrs={'itemprop':'price'})"
   ]
  },
  {
   "cell_type": "code",
   "execution_count": 39,
   "metadata": {},
   "outputs": [
    {
     "data": {
      "text/plain": [
       "<img alt=\"\" class=\"js-qv-product-cover\" itemprop=\"image\" src=\"https://ik.imagekit.io/0m8jwj6r2ub/tr:w-900,h-900/3903-large_default/triton.jpg\" style=\"width:100%;\" title=\"\"/>"
      ]
     },
     "execution_count": 39,
     "metadata": {},
     "output_type": "execute_result"
    }
   ],
   "source": [
    "prod_name.parent.parent.find('img',attrs={'itemprop':'image'})"
   ]
  },
  {
   "cell_type": "code",
   "execution_count": 47,
   "metadata": {},
   "outputs": [
    {
     "data": {
      "text/plain": [
       "<span class=\"regular-price\">£10.88</span>"
      ]
     },
     "execution_count": 47,
     "metadata": {},
     "output_type": "execute_result"
    }
   ],
   "source": [
    "prod_name.parent.find('span',attrs={'class':'regular-price'})"
   ]
  },
  {
   "cell_type": "code",
   "execution_count": 43,
   "metadata": {},
   "outputs": [
    {
     "data": {
      "text/plain": [
       "'Save 50%'"
      ]
     },
     "execution_count": 43,
     "metadata": {},
     "output_type": "execute_result"
    }
   ],
   "source": [
    "prod_name.parent.find('span',attrs={'class':'discount'}).text"
   ]
  },
  {
   "cell_type": "code",
   "execution_count": 10,
   "metadata": {},
   "outputs": [],
   "source": [
    "product_re = r\"(\\[\\])?\\(?(https:\\/\\/www.gellifique.co.uk\\/.+?\\.html)\\)?\""
   ]
  },
  {
   "cell_type": "code",
   "execution_count": 7,
   "metadata": {},
   "outputs": [],
   "source": [
    "text =\"\"\"\n",
    "\n",
    "[](https://www.gellifique.co.uk/en/gel-colour-/-steel\\(845\\).html)\n",
    "\n",
    "[](https://www.gellifique.co.uk/en/gel-/-steel\\(845\\).html)\n",
    "\n",
    "https://www.gellifique.co.uk/en/magnetic/-triton(1363).html\n",
    "\n",
    "[](https://www.gellifique.co.uk/en/magnetic/-triton(1363).html)\n",
    "\n",
    "\"\"\""
   ]
  },
  {
   "cell_type": "code",
   "execution_count": 11,
   "metadata": {},
   "outputs": [
    {
     "data": {
      "text/plain": [
       "'https://www.gellifique.co.uk/en/gel-colour-/-steel(845).html'"
      ]
     },
     "execution_count": 11,
     "metadata": {},
     "output_type": "execute_result"
    }
   ],
   "source": [
    "prods = re.findall(product_re,text)\n",
    "prods[0][1].replace('\\\\','')"
   ]
  },
  {
   "cell_type": "code",
   "execution_count": 12,
   "metadata": {},
   "outputs": [
    {
     "data": {
      "text/plain": [
       "[('[]', 'https://www.gellifique.co.uk/en/gel-colour-/-steel\\\\(845\\\\).html'),\n",
       " ('[]', 'https://www.gellifique.co.uk/en/gel-/-steel\\\\(845\\\\).html'),\n",
       " ('', 'https://www.gellifique.co.uk/en/magnetic/-triton(1363).html'),\n",
       " ('[]', 'https://www.gellifique.co.uk/en/magnetic/-triton(1363).html')]"
      ]
     },
     "execution_count": 12,
     "metadata": {},
     "output_type": "execute_result"
    }
   ],
   "source": [
    "prods"
   ]
  }
 ],
 "metadata": {
  "kernelspec": {
   "display_name": "Python 3.8.5 ('.venv': pipenv)",
   "language": "python",
   "name": "python3"
  },
  "language_info": {
   "codemirror_mode": {
    "name": "ipython",
    "version": 3
   },
   "file_extension": ".py",
   "mimetype": "text/x-python",
   "name": "python",
   "nbconvert_exporter": "python",
   "pygments_lexer": "ipython3",
   "version": "3.8.5"
  },
  "vscode": {
   "interpreter": {
    "hash": "54aba9fbefe3b9078c59180d012a34c3b5bac11eea058c8a60927e1030f58f68"
   }
  }
 },
 "nbformat": 4,
 "nbformat_minor": 2
}

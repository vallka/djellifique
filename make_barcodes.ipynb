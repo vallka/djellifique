{
 "cells": [
  {
   "cell_type": "code",
   "execution_count": null,
   "metadata": {},
   "outputs": [],
   "source": [
    "import barcode\n",
    "from barcode.writer import ImageWriter\n",
    "import pandas as pd\n"
   ]
  },
  {
   "cell_type": "code",
   "execution_count": null,
   "metadata": {},
   "outputs": [],
   "source": [
    "ex = pd.read_csv(r\"p:\\Gellifique\\DOCUMENTS\\Factory Invoices\\09_gellifique20211009 EDITED excel.csv\")"
   ]
  },
  {
   "cell_type": "code",
   "execution_count": null,
   "metadata": {},
   "outputs": [],
   "source": [
    "ex"
   ]
  },
  {
   "cell_type": "code",
   "execution_count": null,
   "metadata": {},
   "outputs": [],
   "source": [
    "for e in ex.iloc[:,8]:\n",
    "    print(e,len(str(e)))\n",
    "    if (len(str(e))==13):\n",
    "        ean_eps = barcode.get('ean13-guard', str(e), writer=ImageWriter(format='EPS'),)\n",
    "        ean_png = barcode.get('ean13-guard', str(e), writer=ImageWriter(format='PNG'),)\n",
    "        filename = ean_png.save(str(e))\n",
    "        filename\n",
    "        filename = ean_eps.save(str(e))\n",
    "        filename\n"
   ]
  },
  {
   "cell_type": "code",
   "execution_count": null,
   "metadata": {},
   "outputs": [],
   "source": [
    "ex.iloc[:,8]"
   ]
  },
  {
   "cell_type": "code",
   "execution_count": null,
   "metadata": {},
   "outputs": [],
   "source": [
    "ean = barcode.get('ean13-guard', '5060726308724', writer=ImageWriter(format='EPS'),)"
   ]
  },
  {
   "cell_type": "code",
   "execution_count": null,
   "metadata": {},
   "outputs": [],
   "source": [
    "ean.to_ascii()"
   ]
  },
  {
   "cell_type": "code",
   "execution_count": null,
   "metadata": {},
   "outputs": [],
   "source": [
    "filename = ean.save('ean13')\n",
    "filename"
   ]
  },
  {
   "cell_type": "code",
   "execution_count": 3,
   "metadata": {},
   "outputs": [],
   "source": [
    "a=\"\"\"\n",
    "<h2>READY. STEADY. BRUSH.</h2>\n",
    "<p>Choosing your perfect \"partner in crime\" isn't always easy - especially if you are a beginner so lets talk GEL BRUSHES.</p>\n",
    "<p><img alt=\"\" src=\"https://blog.gellifique.co.uk/media/markdownx/2021/07/07/c9bd7d08-db59-487a-9ce2-0b1c9db3d9e0.jpg\" /></p>\n",
    "<h2>Get 15% of brushes and tools with the code PP36AN7L (T&amp;C apply)</h2>\n",
    "<h1>A quick brush guide</h1>\n",
    "<p>A perfect gel brush will assist you in reducing your service time and creating a desired overall result. </p>\n",
    "<p>So what should you expect?</p>\n",
    "<ol>\n",
    "<li>When your brush arrives it will be coated with a special residue that is applied after production to protect the bristles.   You must remove this residue completely before using the brush. All bristles should be aligned in the same direction and the tip should be well defined.</li>\n",
    "<li>The metallic / acrylic handle should also have an optimal weight for comfort and have a tight, even grip around the base of the brush bristles.</li>\n",
    "<li>For hard and soak off builder gel the most common type of material used in brushes is synthetic as natural bristles tend to absorb too much product. </li>\n",
    "<li>The synthetic bristles must have a specific type of thickness and hardness to ensure that it does not create dents in the extension or overlay you are creating. A professional quality gel brush will be manufactured with these aspects in mind. </li>\n",
    "<li>The length of the handle shouldn't be too long or thick and you should be able to have a good grip on it without it causing discomfort. </li>\n",
    "</ol>\n",
    "<p>It is important to find a brush that YOU find the most comfortable in order to reduce strain during product application therefore, improving the overall quality of your work.</p>\n",
    "<h1>Tips for maintenance</h1>\n",
    "<ul>\n",
    "<li>keep all your nail art brushes away from UV/LED light</li>\n",
    "<li>clean your brushes after each client with a brush cleanser</li>\n",
    "<li>do not use acetone and other abrasive cleansers as these will harden the bristles</li>\n",
    "<li>use brushes only for the intended purpose </li>\n",
    "<li>do not soak your brushes in water or other solutions as it can damage the handle piece</li>\n",
    "<li>dry your brushes at room temperature and facing downwards</li>\n",
    "<li>do not cover a damp brush with the provided brush cap as it can affect the shape of the brush bristles and / or can cause deterioration</li>\n",
    "<li>keep your brushes upright in a well ventilated area</li>\n",
    "</ul>\n",
    "<h1>Choose your \"partner in crime\"</h1>\n",
    "<p><img alt=\"\" src=\"https://ik.imagekit.io/0m8jwj6r2ub/tr:w-452,h-452/3957-large_default/oval-gel-nail-art-brush.jpg\" /><br />\n",
    "<a href=\"https://www.gellifique.co.uk/en/brushes-/-oval-gel-nail-art-brush(1382).html\"><h4>OVAL GEL NAIL ART BRUSH - £9.99</h4></a><br />\n",
    "The number one selling Gel brush in size 8 </p>\n",
    "<p><img alt=\"\" src=\"https://ik.imagekit.io/0m8jwj6r2ub/tr:w-452,h-452/5429-large_default/acrylic-gel-brush-spatula.jpg\" /><br />\n",
    "<a href=\"https://www.gellifique.co.uk/en/brushes-/-acrylic-gel-brush-spatula(1672).html\"><h4>ACRYLIC GEL BRUSH / SPATULA - £9.99</h4></a><br />\n",
    "Size 6 Gel / Acrylic gel brush with spatula</p>\n",
    "<p><img alt=\"\" src=\"https://ik.imagekit.io/0m8jwj6r2ub/tr:w-452,h-452/5431-large_default/2in1-gel-brush-8mm-9mm.jpg\" /><br />\n",
    "<a href=\"https://www.gellifique.co.uk/en/brushes-/-2in1-gel-brush-8mm-9mm(1670).html\"><h4>2in1 GEL BRUSH (8mm / 9mm) - £9.99</h4></a><br />\n",
    "Multi purpose, dual ended gel brush which can be used for sculpted French, overlay and application of gel polish. Narrower design (4mm) makes it easier to maneuver around the nail plate.</p>\n",
    "<p><img alt=\"\" src=\"https://ik.imagekit.io/0m8jwj6r2ub/tr:w-452,h-452/5430-large_default/2in1-gel-brush-10mm-11mm.jpg\" /><br />\n",
    "<a href=\"https://www.gellifique.co.uk/en/brushes-/-2in1-gel-brush-10mm-11mm(1671).html\"><h4>2in1 GEL BRUSH (10mm /11mm) - £9.99</h4></a><br />\n",
    "The ultimate dual ended sculpting brush with longer length(10/11mm) and 6mm width</p>\n",
    "\n",
    "\n",
    "\n",
    "\n",
    "\"\"\""
   ]
  },
  {
   "cell_type": "code",
   "execution_count": 6,
   "metadata": {},
   "outputs": [
    {
     "data": {
      "text/plain": [
       "'\\n<h2>READY. STEADY. BRUSH.</h2>\\n<p>Choosing your perfect \"partner in crime\" isn\\'t always easy - especially if you are a beginner so lets talk GEL BRUSHES.</p>\\n<p><img alt=\"\" src=\"https://blog.gellifique.co.uk/media/markdownx/2021/07/07/c9bd7d08-db59-487a-9ce2-0b1c9db3d9e0.jpg\" /></p>\\n<h2>Get 15% of brushes and tools with the code PP36AN7L (T&amp;C apply)</h2>\\n<h1>A quick brush guide</h1>\\n<p>A perfect gel brush will assist you in reducing your service time and creating a desired overall result. </p>\\n<p>So what should you expect?</p>\\n<ol>\\n<li>When your brush arrives it will be coated with a special residue that is applied after production to protect the bristles.   You must remove this residue completely before using the brush. All bristles should be aligned in the same direction and the tip should be well defined.</li>\\n<li>The metallic / acrylic handle should also have an optimal weight for comfort and have a tight, even grip around the base of the brush bristles.</li>\\n<li>For hard and soak off builder gel the most common type of material used in brushes is synthetic as natural bristles tend to absorb too much product. </li>\\n<li>The synthetic bristles must have a specific type of thickness and hardness to ensure that it does not create dents in the extension or overlay you are creating. A professional quality gel brush will be manufactured with these aspects in mind. </li>\\n<li>The length of the handle shouldn\\'t be too long or thick and you should be able to have a good grip on it without it causing discomfort. </li>\\n</ol>\\n<p>It is important to find a brush that YOU find the most comfortable in order to reduce strain during product application therefore, improving the overall quality of your work.</p>\\n<h1>Tips for maintenance</h1>\\n<ul>\\n<li>keep all your nail art brushes away from UV/LED light</li>\\n<li>clean your brushes after each client with a brush cleanser</li>\\n<li>do not use acetone and other abrasive cleansers as these will harden the bristles</li>\\n<li>use brushes only for the intended purpose </li>\\n<li>do not soak your brushes in water or other solutions as it can damage the handle piece</li>\\n<li>dry your brushes at room temperature and facing downwards</li>\\n<li>do not cover a damp brush with the provided brush cap as it can affect the shape of the brush bristles and / or can cause deterioration</li>\\n<li>keep your brushes upright in a well ventilated area</li>\\n</ul>\\n<h1>Choose your \"partner in crime\"</h1>\\n<p><img alt=\"\" src=\"https://ik.imagekit.io/0m8jwj6r2ub/tr:w-452,h-452/3957-large_default/oval-gel-nail-art-brush.jpg\" /><br />\\n<a href=\"https://www.gellifique.co.uk/en/brushes-/-oval-gel-nail-art-brush(1382).html\"><h4>OVAL GEL NAIL ART BRUSH - £9.99</h4></a><br />\\nThe number one selling Gel brush in size 8 </p>\\n<p><img alt=\"\" src=\"https://ik.imagekit.io/0m8jwj6r2ub/tr:w-452,h-452/5429-large_default/acrylic-gel-brush-spatula.jpg\" /><br />\\n<a href=\"https://www.gellifique.co.uk/en/brushes-/-acrylic-gel-brush-spatula(1672).html\"><h4>ACRYLIC GEL BRUSH / SPATULA - £9.99</h4></a><br />\\nSize 6 Gel / Acrylic gel brush with spatula</p>\\n<p><img alt=\"\" src=\"https://ik.imagekit.io/0m8jwj6r2ub/tr:w-452,h-452/5431-large_default/2in1-gel-brush-8mm-9mm.jpg\" /><br />\\n<a href=\"https://www.gellifique.co.uk/en/brushes-/-2in1-gel-brush-8mm-9mm(1670).html\"><h4>2in1 GEL BRUSH (8mm / 9mm) - £9.99</h4></a><br />\\nMulti purpose, dual ended gel brush which can be used for sculpted French, overlay and application of gel polish. Narrower design (4mm) makes it easier to maneuver around the nail plate.</p>\\n<p><img alt=\"\" src=\"https://ik.imagekit.io/0m8jwj6r2ub/tr:w-452,h-452/5430-large_default/2in1-gel-brush-10mm-11mm.jpg\" /><br />\\n<a href=\"https://www.gellifique.co.uk/en/brushes-/-2in1-gel-brush-10mm-11mm(1671).html\"><h4>2in1 GEL BRUSH (10mm /11mm) - £9.99</h4></a><br />\\nThe ultimate dual ended sculpting brush with longer length(10/11mm) and 6mm width</p>\\n\\n\\n\\n\\n'"
      ]
     },
     "execution_count": 6,
     "metadata": {},
     "output_type": "execute_result"
    }
   ],
   "source": [
    "import re\n",
    "a"
   ]
  },
  {
   "cell_type": "code",
   "execution_count": null,
   "metadata": {},
   "outputs": [],
   "source": []
  },
  {
   "cell_type": "code",
   "execution_count": null,
   "metadata": {},
   "outputs": [],
   "source": []
  },
  {
   "cell_type": "code",
   "execution_count": 7,
   "metadata": {},
   "outputs": [
    {
     "data": {
      "text/plain": [
       "'\\n<h2>READY. STEADY. BRUSH.</h2>\\n<p>Choosing your perfect \"partner in crime\" isn\\'t always easy - especially if you are a beginner so lets talk GEL BRUSHES.</p>\\n<p><img alt=\"\" src=\"https://blog.gellifique.co.uk/media/markdownx/2021/07/07/c9bd7d08-db59-487a-9ce2-0b1c9db3d9e0.jpg\" /></p>\\n<h2>Get 15% of brushes and tools with the code PP36AN7L (T&amp;C apply)</h2>\\n<h1>A quick brush guide</h1>\\n<p>A perfect gel brush will assist you in reducing your service time and creating a desired overall result. </p>\\n<p>So what should you expect?</p>\\n<ol>\\n<li>When your brush arrives it will be coated with a special residue that is applied after production to protect the bristles.   You must remove this residue completely before using the brush. All bristles should be aligned in the same direction and the tip should be well defined.</li>\\n<li>The metallic / acrylic handle should also have an optimal weight for comfort and have a tight, even grip around the base of the brush bristles.</li>\\n<li>For hard and soak off builder gel the most common type of material used in brushes is synthetic as natural bristles tend to absorb too much product. </li>\\n<li>The synthetic bristles must have a specific type of thickness and hardness to ensure that it does not create dents in the extension or overlay you are creating. A professional quality gel brush will be manufactured with these aspects in mind. </li>\\n<li>The length of the handle shouldn\\'t be too long or thick and you should be able to have a good grip on it without it causing discomfort. </li>\\n</ol>\\n<p>It is important to find a brush that YOU find the most comfortable in order to reduce strain during product application therefore, improving the overall quality of your work.</p>\\n<h1>Tips for maintenance</h1>\\n<ul>\\n<li>keep all your nail art brushes away from UV/LED light</li>\\n<li>clean your brushes after each client with a brush cleanser</li>\\n<li>do not use acetone and other abrasive cleansers as these will harden the bristles</li>\\n<li>use brushes only for the intended purpose </li>\\n<li>do not soak your brushes in water or other solutions as it can damage the handle piece</li>\\n<li>dry your brushes at room temperature and facing downwards</li>\\n<li>do not cover a damp brush with the provided brush cap as it can affect the shape of the brush bristles and / or can cause deterioration</li>\\n<li>keep your brushes upright in a well ventilated area</li>\\n</ul>\\n<h1>Choose your \"partner in crime\"</h1>\\n<p><img alt=\"\" src=\"https://ik.imagekit.io/0m8jwj6r2ub/tr:w-452,h-452/3957-large_default/oval-gel-nail-art-brush.jpg\" /><br />\\n<h4>OVAL GEL NAIL ART BRUSH - £9.99</h4></a><br />\\nThe number one selling Gel brush in size 8 </p>\\n<p><img alt=\"\" src=\"https://ik.imagekit.io/0m8jwj6r2ub/tr:w-452,h-452/5429-large_default/acrylic-gel-brush-spatula.jpg\" /><br />\\n<h4>ACRYLIC GEL BRUSH / SPATULA - £9.99</h4></a><br />\\nSize 6 Gel / Acrylic gel brush with spatula</p>\\n<p><img alt=\"\" src=\"https://ik.imagekit.io/0m8jwj6r2ub/tr:w-452,h-452/5431-large_default/2in1-gel-brush-8mm-9mm.jpg\" /><br />\\n<h4>2in1 GEL BRUSH (8mm / 9mm) - £9.99</h4></a><br />\\nMulti purpose, dual ended gel brush which can be used for sculpted French, overlay and application of gel polish. Narrower design (4mm) makes it easier to maneuver around the nail plate.</p>\\n<p><img alt=\"\" src=\"https://ik.imagekit.io/0m8jwj6r2ub/tr:w-452,h-452/5430-large_default/2in1-gel-brush-10mm-11mm.jpg\" /><br />\\n<h4>2in1 GEL BRUSH (10mm /11mm) - £9.99</h4></a><br />\\nThe ultimate dual ended sculpting brush with longer length(10/11mm) and 6mm width</p>\\n\\n\\n\\n\\n'"
      ]
     },
     "execution_count": 7,
     "metadata": {},
     "output_type": "execute_result"
    }
   ],
   "source": [
    " a = re.sub('<a[^>]+?>','',a)\n",
    " a"
   ]
  },
  {
   "cell_type": "code",
   "execution_count": 8,
   "metadata": {},
   "outputs": [
    {
     "data": {
      "text/plain": [
       "'\\n<h2>READY. STEADY. BRUSH.</h2>\\n<p>Choosing your perfect \"partner in crime\" isn\\'t always easy - especially if you are a beginner so lets talk GEL BRUSHES.</p>\\n<p><img alt=\"\" src=\"https://blog.gellifique.co.uk/media/markdownx/2021/07/07/c9bd7d08-db59-487a-9ce2-0b1c9db3d9e0.jpg\" /></p>\\n<h2>Get 15% of brushes and tools with the code PP36AN7L (T&amp;C apply)</h2>\\n<h1>A quick brush guide</h1>\\n<p>A perfect gel brush will assist you in reducing your service time and creating a desired overall result. </p>\\n<p>So what should you expect?</p>\\n<ol>\\n<li>When your brush arrives it will be coated with a special residue that is applied after production to protect the bristles.   You must remove this residue completely before using the brush. All bristles should be aligned in the same direction and the tip should be well defined.</li>\\n<li>The metallic / acrylic handle should also have an optimal weight for comfort and have a tight, even grip around the base of the brush bristles.</li>\\n<li>For hard and soak off builder gel the most common type of material used in brushes is synthetic as natural bristles tend to absorb too much product. </li>\\n<li>The synthetic bristles must have a specific type of thickness and hardness to ensure that it does not create dents in the extension or overlay you are creating. A professional quality gel brush will be manufactured with these aspects in mind. </li>\\n<li>The length of the handle shouldn\\'t be too long or thick and you should be able to have a good grip on it without it causing discomfort. </li>\\n</ol>\\n<p>It is important to find a brush that YOU find the most comfortable in order to reduce strain during product application therefore, improving the overall quality of your work.</p>\\n<h1>Tips for maintenance</h1>\\n<ul>\\n<li>keep all your nail art brushes away from UV/LED light</li>\\n<li>clean your brushes after each client with a brush cleanser</li>\\n<li>do not use acetone and other abrasive cleansers as these will harden the bristles</li>\\n<li>use brushes only for the intended purpose </li>\\n<li>do not soak your brushes in water or other solutions as it can damage the handle piece</li>\\n<li>dry your brushes at room temperature and facing downwards</li>\\n<li>do not cover a damp brush with the provided brush cap as it can affect the shape of the brush bristles and / or can cause deterioration</li>\\n<li>keep your brushes upright in a well ventilated area</li>\\n</ul>\\n<h1>Choose your \"partner in crime\"</h1>\\n<p><img alt=\"\" src=\"https://ik.imagekit.io/0m8jwj6r2ub/tr:w-452,h-452/3957-large_default/oval-gel-nail-art-brush.jpg\" /><br />\\n<h4>OVAL GEL NAIL ART BRUSH - £9.99</h4><br />\\nThe number one selling Gel brush in size 8 </p>\\n<p><img alt=\"\" src=\"https://ik.imagekit.io/0m8jwj6r2ub/tr:w-452,h-452/5429-large_default/acrylic-gel-brush-spatula.jpg\" /><br />\\n<h4>ACRYLIC GEL BRUSH / SPATULA - £9.99</h4><br />\\nSize 6 Gel / Acrylic gel brush with spatula</p>\\n<p><img alt=\"\" src=\"https://ik.imagekit.io/0m8jwj6r2ub/tr:w-452,h-452/5431-large_default/2in1-gel-brush-8mm-9mm.jpg\" /><br />\\n<h4>2in1 GEL BRUSH (8mm / 9mm) - £9.99</h4><br />\\nMulti purpose, dual ended gel brush which can be used for sculpted French, overlay and application of gel polish. Narrower design (4mm) makes it easier to maneuver around the nail plate.</p>\\n<p><img alt=\"\" src=\"https://ik.imagekit.io/0m8jwj6r2ub/tr:w-452,h-452/5430-large_default/2in1-gel-brush-10mm-11mm.jpg\" /><br />\\n<h4>2in1 GEL BRUSH (10mm /11mm) - £9.99</h4><br />\\nThe ultimate dual ended sculpting brush with longer length(10/11mm) and 6mm width</p>\\n\\n\\n\\n\\n'"
      ]
     },
     "execution_count": 8,
     "metadata": {},
     "output_type": "execute_result"
    }
   ],
   "source": [
    " a = re.sub(r'</a>','',a)\n",
    " a"
   ]
  },
  {
   "cell_type": "code",
   "execution_count": 9,
   "metadata": {},
   "outputs": [
    {
     "data": {
      "text/plain": [
       "'\\n<h2>READY. STEADY. BRUSH.</h2>\\n<p>Choosing your perfect \"partner in crime\" isn\\'t always easy - especially if you are a beginner so lets talk GEL BRUSHES.</p>\\n<p></p>\\n<h2>Get 15% of brushes and tools with the code PP36AN7L (T&amp;C apply)</h2>\\n<h1>A quick brush guide</h1>\\n<p>A perfect gel brush will assist you in reducing your service time and creating a desired overall result. </p>\\n<p>So what should you expect?</p>\\n<ol>\\n<li>When your brush arrives it will be coated with a special residue that is applied after production to protect the bristles.   You must remove this residue completely before using the brush. All bristles should be aligned in the same direction and the tip should be well defined.</li>\\n<li>The metallic / acrylic handle should also have an optimal weight for comfort and have a tight, even grip around the base of the brush bristles.</li>\\n<li>For hard and soak off builder gel the most common type of material used in brushes is synthetic as natural bristles tend to absorb too much product. </li>\\n<li>The synthetic bristles must have a specific type of thickness and hardness to ensure that it does not create dents in the extension or overlay you are creating. A professional quality gel brush will be manufactured with these aspects in mind. </li>\\n<li>The length of the handle shouldn\\'t be too long or thick and you should be able to have a good grip on it without it causing discomfort. </li>\\n</ol>\\n<p>It is important to find a brush that YOU find the most comfortable in order to reduce strain during product application therefore, improving the overall quality of your work.</p>\\n<h1>Tips for maintenance</h1>\\n<ul>\\n<li>keep all your nail art brushes away from UV/LED light</li>\\n<li>clean your brushes after each client with a brush cleanser</li>\\n<li>do not use acetone and other abrasive cleansers as these will harden the bristles</li>\\n<li>use brushes only for the intended purpose </li>\\n<li>do not soak your brushes in water or other solutions as it can damage the handle piece</li>\\n<li>dry your brushes at room temperature and facing downwards</li>\\n<li>do not cover a damp brush with the provided brush cap as it can affect the shape of the brush bristles and / or can cause deterioration</li>\\n<li>keep your brushes upright in a well ventilated area</li>\\n</ul>\\n<h1>Choose your \"partner in crime\"</h1>\\n<p><br />\\n<h4>OVAL GEL NAIL ART BRUSH - £9.99</h4><br />\\nThe number one selling Gel brush in size 8 </p>\\n<p><br />\\n<h4>ACRYLIC GEL BRUSH / SPATULA - £9.99</h4><br />\\nSize 6 Gel / Acrylic gel brush with spatula</p>\\n<p><br />\\n<h4>2in1 GEL BRUSH (8mm / 9mm) - £9.99</h4><br />\\nMulti purpose, dual ended gel brush which can be used for sculpted French, overlay and application of gel polish. Narrower design (4mm) makes it easier to maneuver around the nail plate.</p>\\n<p><br />\\n<h4>2in1 GEL BRUSH (10mm /11mm) - £9.99</h4><br />\\nThe ultimate dual ended sculpting brush with longer length(10/11mm) and 6mm width</p>\\n\\n\\n\\n\\n'"
      ]
     },
     "execution_count": 9,
     "metadata": {},
     "output_type": "execute_result"
    }
   ],
   "source": [
    " a = re.sub('<img[^>]+?>','',a)\n",
    " a"
   ]
  }
 ],
 "metadata": {
  "interpreter": {
   "hash": "5487a053c8e3cd53cde0c9fc7b373725ebc8d6cf0ad3ae09aae7006b5e424b42"
  },
  "kernelspec": {
   "display_name": "Python 3.8.5 64-bit ('djellifique-mnrbmK6X': pipenv)",
   "name": "python3"
  },
  "language_info": {
   "codemirror_mode": {
    "name": "ipython",
    "version": 3
   },
   "file_extension": ".py",
   "mimetype": "text/x-python",
   "name": "python",
   "nbconvert_exporter": "python",
   "pygments_lexer": "ipython3",
   "version": "3.8.5"
  },
  "orig_nbformat": 4
 },
 "nbformat": 4,
 "nbformat_minor": 2
}
